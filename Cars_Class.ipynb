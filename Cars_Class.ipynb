{
  "nbformat": 4,
  "nbformat_minor": 0,
  "metadata": {
    "colab": {
      "provenance": [],
      "collapsed_sections": [],
      "authorship_tag": "ABX9TyPyHUaVWdYuw1/Zc7TAAxh0",
      "include_colab_link": true
    },
    "kernelspec": {
      "name": "python3",
      "display_name": "Python 3"
    },
    "language_info": {
      "name": "python"
    },
    "gpuClass": "standard"
  },
  "cells": [
    {
      "cell_type": "markdown",
      "metadata": {
        "id": "view-in-github",
        "colab_type": "text"
      },
      "source": [
        "<a href=\"https://colab.research.google.com/github/Ganeshprasannamax/Cars_Class/blob/main/Cars_Class.ipynb\" target=\"_parent\"><img src=\"https://colab.research.google.com/assets/colab-badge.svg\" alt=\"Open In Colab\"/></a>"
      ]
    },
    {
      "cell_type": "markdown",
      "source": [
        "#*Car Class*\n"
      ],
      "metadata": {
        "id": "Uzb1_pGPqtmB"
      }
    },
    {
      "cell_type": "code",
      "execution_count": null,
      "metadata": {
        "id": "C4289pAvLU7T"
      },
      "outputs": [],
      "source": [
        "# Import Pandas\n",
        "import pandas as pd \n"
      ]
    },
    {
      "cell_type": "code",
      "source": [
        "#Import Source Data\n",
        "data = pd.read_csv('cars_class.csv')"
      ],
      "metadata": {
        "id": "14Zwhjw3qdow"
      },
      "execution_count": null,
      "outputs": []
    },
    {
      "cell_type": "code",
      "source": [
        "#Finding a Data Shape \n",
        "data.shape"
      ],
      "metadata": {
        "id": "tdqiLxq6rV0z",
        "colab": {
          "base_uri": "https://localhost:8080/"
        },
        "outputId": "2352b1c4-4008-4ffc-9215-8fc41a12ad88"
      },
      "execution_count": null,
      "outputs": [
        {
          "output_type": "execute_result",
          "data": {
            "text/plain": [
              "(719, 20)"
            ]
          },
          "metadata": {},
          "execution_count": 6
        }
      ]
    },
    {
      "cell_type": "code",
      "source": [
        "data.head()\n"
      ],
      "metadata": {
        "id": "0fW1cDbQrZrx",
        "colab": {
          "base_uri": "https://localhost:8080/",
          "height": 206
        },
        "outputId": "8142f109-526f-46c1-8340-c8ce84f86e23"
      },
      "execution_count": null,
      "outputs": [
        {
          "output_type": "execute_result",
          "data": {
            "text/plain": [
              "   ID  Comp  Circ  D.Circ  Rad.Ra  Pr.Axis.Ra  Max.L.Ra  Scat.Ra  Elong  \\\n",
              "0   1    88    39      70     166          66         7      148     44   \n",
              "1   2    85    35      64     129          57         6      116     57   \n",
              "2   3    91    41      84     141          57         9      149     45   \n",
              "3   4   102    54      98     177          56        10      219     31   \n",
              "4   5    87    39      74     152          58         6      151     44   \n",
              "\n",
              "   Pr.Axis.Rect  Max.L.Rect  Sc.Var.Maxis  Sc.Var.maxis  Ra.Gyr  Skew.Maxis  \\\n",
              "0            19         134           167           332     143          69   \n",
              "1            17         125           138           200     123          65   \n",
              "2            19         143           170           330     158          72   \n",
              "3            25         171           219           706     223          72   \n",
              "4            19         136           174           337     140          70   \n",
              "\n",
              "   Skew.maxis  Kurt.maxis  Kurt.Maxis  Holl.Ra  Class  \n",
              "0           5          13         193      201      0  \n",
              "1           1          23         196      203      3  \n",
              "2           9          14         189      199      3  \n",
              "3           5          17         186      196      1  \n",
              "4           1          33         187      196      2  "
            ],
            "text/html": [
              "\n",
              "  <div id=\"df-d2a5c495-ba83-456a-a4f8-b5958378af4a\">\n",
              "    <div class=\"colab-df-container\">\n",
              "      <div>\n",
              "<style scoped>\n",
              "    .dataframe tbody tr th:only-of-type {\n",
              "        vertical-align: middle;\n",
              "    }\n",
              "\n",
              "    .dataframe tbody tr th {\n",
              "        vertical-align: top;\n",
              "    }\n",
              "\n",
              "    .dataframe thead th {\n",
              "        text-align: right;\n",
              "    }\n",
              "</style>\n",
              "<table border=\"1\" class=\"dataframe\">\n",
              "  <thead>\n",
              "    <tr style=\"text-align: right;\">\n",
              "      <th></th>\n",
              "      <th>ID</th>\n",
              "      <th>Comp</th>\n",
              "      <th>Circ</th>\n",
              "      <th>D.Circ</th>\n",
              "      <th>Rad.Ra</th>\n",
              "      <th>Pr.Axis.Ra</th>\n",
              "      <th>Max.L.Ra</th>\n",
              "      <th>Scat.Ra</th>\n",
              "      <th>Elong</th>\n",
              "      <th>Pr.Axis.Rect</th>\n",
              "      <th>Max.L.Rect</th>\n",
              "      <th>Sc.Var.Maxis</th>\n",
              "      <th>Sc.Var.maxis</th>\n",
              "      <th>Ra.Gyr</th>\n",
              "      <th>Skew.Maxis</th>\n",
              "      <th>Skew.maxis</th>\n",
              "      <th>Kurt.maxis</th>\n",
              "      <th>Kurt.Maxis</th>\n",
              "      <th>Holl.Ra</th>\n",
              "      <th>Class</th>\n",
              "    </tr>\n",
              "  </thead>\n",
              "  <tbody>\n",
              "    <tr>\n",
              "      <th>0</th>\n",
              "      <td>1</td>\n",
              "      <td>88</td>\n",
              "      <td>39</td>\n",
              "      <td>70</td>\n",
              "      <td>166</td>\n",
              "      <td>66</td>\n",
              "      <td>7</td>\n",
              "      <td>148</td>\n",
              "      <td>44</td>\n",
              "      <td>19</td>\n",
              "      <td>134</td>\n",
              "      <td>167</td>\n",
              "      <td>332</td>\n",
              "      <td>143</td>\n",
              "      <td>69</td>\n",
              "      <td>5</td>\n",
              "      <td>13</td>\n",
              "      <td>193</td>\n",
              "      <td>201</td>\n",
              "      <td>0</td>\n",
              "    </tr>\n",
              "    <tr>\n",
              "      <th>1</th>\n",
              "      <td>2</td>\n",
              "      <td>85</td>\n",
              "      <td>35</td>\n",
              "      <td>64</td>\n",
              "      <td>129</td>\n",
              "      <td>57</td>\n",
              "      <td>6</td>\n",
              "      <td>116</td>\n",
              "      <td>57</td>\n",
              "      <td>17</td>\n",
              "      <td>125</td>\n",
              "      <td>138</td>\n",
              "      <td>200</td>\n",
              "      <td>123</td>\n",
              "      <td>65</td>\n",
              "      <td>1</td>\n",
              "      <td>23</td>\n",
              "      <td>196</td>\n",
              "      <td>203</td>\n",
              "      <td>3</td>\n",
              "    </tr>\n",
              "    <tr>\n",
              "      <th>2</th>\n",
              "      <td>3</td>\n",
              "      <td>91</td>\n",
              "      <td>41</td>\n",
              "      <td>84</td>\n",
              "      <td>141</td>\n",
              "      <td>57</td>\n",
              "      <td>9</td>\n",
              "      <td>149</td>\n",
              "      <td>45</td>\n",
              "      <td>19</td>\n",
              "      <td>143</td>\n",
              "      <td>170</td>\n",
              "      <td>330</td>\n",
              "      <td>158</td>\n",
              "      <td>72</td>\n",
              "      <td>9</td>\n",
              "      <td>14</td>\n",
              "      <td>189</td>\n",
              "      <td>199</td>\n",
              "      <td>3</td>\n",
              "    </tr>\n",
              "    <tr>\n",
              "      <th>3</th>\n",
              "      <td>4</td>\n",
              "      <td>102</td>\n",
              "      <td>54</td>\n",
              "      <td>98</td>\n",
              "      <td>177</td>\n",
              "      <td>56</td>\n",
              "      <td>10</td>\n",
              "      <td>219</td>\n",
              "      <td>31</td>\n",
              "      <td>25</td>\n",
              "      <td>171</td>\n",
              "      <td>219</td>\n",
              "      <td>706</td>\n",
              "      <td>223</td>\n",
              "      <td>72</td>\n",
              "      <td>5</td>\n",
              "      <td>17</td>\n",
              "      <td>186</td>\n",
              "      <td>196</td>\n",
              "      <td>1</td>\n",
              "    </tr>\n",
              "    <tr>\n",
              "      <th>4</th>\n",
              "      <td>5</td>\n",
              "      <td>87</td>\n",
              "      <td>39</td>\n",
              "      <td>74</td>\n",
              "      <td>152</td>\n",
              "      <td>58</td>\n",
              "      <td>6</td>\n",
              "      <td>151</td>\n",
              "      <td>44</td>\n",
              "      <td>19</td>\n",
              "      <td>136</td>\n",
              "      <td>174</td>\n",
              "      <td>337</td>\n",
              "      <td>140</td>\n",
              "      <td>70</td>\n",
              "      <td>1</td>\n",
              "      <td>33</td>\n",
              "      <td>187</td>\n",
              "      <td>196</td>\n",
              "      <td>2</td>\n",
              "    </tr>\n",
              "  </tbody>\n",
              "</table>\n",
              "</div>\n",
              "      <button class=\"colab-df-convert\" onclick=\"convertToInteractive('df-d2a5c495-ba83-456a-a4f8-b5958378af4a')\"\n",
              "              title=\"Convert this dataframe to an interactive table.\"\n",
              "              style=\"display:none;\">\n",
              "        \n",
              "  <svg xmlns=\"http://www.w3.org/2000/svg\" height=\"24px\"viewBox=\"0 0 24 24\"\n",
              "       width=\"24px\">\n",
              "    <path d=\"M0 0h24v24H0V0z\" fill=\"none\"/>\n",
              "    <path d=\"M18.56 5.44l.94 2.06.94-2.06 2.06-.94-2.06-.94-.94-2.06-.94 2.06-2.06.94zm-11 1L8.5 8.5l.94-2.06 2.06-.94-2.06-.94L8.5 2.5l-.94 2.06-2.06.94zm10 10l.94 2.06.94-2.06 2.06-.94-2.06-.94-.94-2.06-.94 2.06-2.06.94z\"/><path d=\"M17.41 7.96l-1.37-1.37c-.4-.4-.92-.59-1.43-.59-.52 0-1.04.2-1.43.59L10.3 9.45l-7.72 7.72c-.78.78-.78 2.05 0 2.83L4 21.41c.39.39.9.59 1.41.59.51 0 1.02-.2 1.41-.59l7.78-7.78 2.81-2.81c.8-.78.8-2.07 0-2.86zM5.41 20L4 18.59l7.72-7.72 1.47 1.35L5.41 20z\"/>\n",
              "  </svg>\n",
              "      </button>\n",
              "      \n",
              "  <style>\n",
              "    .colab-df-container {\n",
              "      display:flex;\n",
              "      flex-wrap:wrap;\n",
              "      gap: 12px;\n",
              "    }\n",
              "\n",
              "    .colab-df-convert {\n",
              "      background-color: #E8F0FE;\n",
              "      border: none;\n",
              "      border-radius: 50%;\n",
              "      cursor: pointer;\n",
              "      display: none;\n",
              "      fill: #1967D2;\n",
              "      height: 32px;\n",
              "      padding: 0 0 0 0;\n",
              "      width: 32px;\n",
              "    }\n",
              "\n",
              "    .colab-df-convert:hover {\n",
              "      background-color: #E2EBFA;\n",
              "      box-shadow: 0px 1px 2px rgba(60, 64, 67, 0.3), 0px 1px 3px 1px rgba(60, 64, 67, 0.15);\n",
              "      fill: #174EA6;\n",
              "    }\n",
              "\n",
              "    [theme=dark] .colab-df-convert {\n",
              "      background-color: #3B4455;\n",
              "      fill: #D2E3FC;\n",
              "    }\n",
              "\n",
              "    [theme=dark] .colab-df-convert:hover {\n",
              "      background-color: #434B5C;\n",
              "      box-shadow: 0px 1px 3px 1px rgba(0, 0, 0, 0.15);\n",
              "      filter: drop-shadow(0px 1px 2px rgba(0, 0, 0, 0.3));\n",
              "      fill: #FFFFFF;\n",
              "    }\n",
              "  </style>\n",
              "\n",
              "      <script>\n",
              "        const buttonEl =\n",
              "          document.querySelector('#df-d2a5c495-ba83-456a-a4f8-b5958378af4a button.colab-df-convert');\n",
              "        buttonEl.style.display =\n",
              "          google.colab.kernel.accessAllowed ? 'block' : 'none';\n",
              "\n",
              "        async function convertToInteractive(key) {\n",
              "          const element = document.querySelector('#df-d2a5c495-ba83-456a-a4f8-b5958378af4a');\n",
              "          const dataTable =\n",
              "            await google.colab.kernel.invokeFunction('convertToInteractive',\n",
              "                                                     [key], {});\n",
              "          if (!dataTable) return;\n",
              "\n",
              "          const docLinkHtml = 'Like what you see? Visit the ' +\n",
              "            '<a target=\"_blank\" href=https://colab.research.google.com/notebooks/data_table.ipynb>data table notebook</a>'\n",
              "            + ' to learn more about interactive tables.';\n",
              "          element.innerHTML = '';\n",
              "          dataTable['output_type'] = 'display_data';\n",
              "          await google.colab.output.renderOutput(dataTable, element);\n",
              "          const docLink = document.createElement('div');\n",
              "          docLink.innerHTML = docLinkHtml;\n",
              "          element.appendChild(docLink);\n",
              "        }\n",
              "      </script>\n",
              "    </div>\n",
              "  </div>\n",
              "  "
            ]
          },
          "metadata": {},
          "execution_count": 7
        }
      ]
    },
    {
      "cell_type": "markdown",
      "source": [
        "##Duplicates Rows Finding "
      ],
      "metadata": {
        "id": "c1DuhVmDFX-J"
      }
    },
    {
      "cell_type": "code",
      "source": [
        "# To Find a Missing Rows in the data \n",
        "data.duplicated().sum()"
      ],
      "metadata": {
        "colab": {
          "base_uri": "https://localhost:8080/"
        },
        "id": "Oy_vd1ZGFeEL",
        "outputId": "51ad030d-0c68-4826-8394-47b18cf8da8c"
      },
      "execution_count": null,
      "outputs": [
        {
          "output_type": "execute_result",
          "data": {
            "text/plain": [
              "0"
            ]
          },
          "metadata": {},
          "execution_count": 8
        }
      ]
    },
    {
      "cell_type": "code",
      "source": [],
      "metadata": {
        "id": "8SocSqsIFs1x"
      },
      "execution_count": null,
      "outputs": []
    },
    {
      "cell_type": "markdown",
      "source": [
        "##Missing Values "
      ],
      "metadata": {
        "id": "t6wZjzpYj-NW"
      }
    },
    {
      "cell_type": "code",
      "source": [
        "# To find the data Info \n",
        "data.info()"
      ],
      "metadata": {
        "colab": {
          "base_uri": "https://localhost:8080/"
        },
        "id": "maW77JdWgxDm",
        "outputId": "d1d5c949-5c0d-4607-b6d7-b9d5fd0935c8"
      },
      "execution_count": null,
      "outputs": [
        {
          "output_type": "stream",
          "name": "stdout",
          "text": [
            "<class 'pandas.core.frame.DataFrame'>\n",
            "RangeIndex: 719 entries, 0 to 718\n",
            "Data columns (total 20 columns):\n",
            " #   Column        Non-Null Count  Dtype\n",
            "---  ------        --------------  -----\n",
            " 0   ID            719 non-null    int64\n",
            " 1   Comp          719 non-null    int64\n",
            " 2   Circ          719 non-null    int64\n",
            " 3   D.Circ        719 non-null    int64\n",
            " 4   Rad.Ra        719 non-null    int64\n",
            " 5   Pr.Axis.Ra    719 non-null    int64\n",
            " 6   Max.L.Ra      719 non-null    int64\n",
            " 7   Scat.Ra       719 non-null    int64\n",
            " 8   Elong         719 non-null    int64\n",
            " 9   Pr.Axis.Rect  719 non-null    int64\n",
            " 10  Max.L.Rect    719 non-null    int64\n",
            " 11  Sc.Var.Maxis  719 non-null    int64\n",
            " 12  Sc.Var.maxis  719 non-null    int64\n",
            " 13  Ra.Gyr        719 non-null    int64\n",
            " 14  Skew.Maxis    719 non-null    int64\n",
            " 15  Skew.maxis    719 non-null    int64\n",
            " 16  Kurt.maxis    719 non-null    int64\n",
            " 17  Kurt.Maxis    719 non-null    int64\n",
            " 18  Holl.Ra       719 non-null    int64\n",
            " 19  Class         719 non-null    int64\n",
            "dtypes: int64(20)\n",
            "memory usage: 112.5 KB\n"
          ]
        }
      ]
    },
    {
      "cell_type": "code",
      "source": [
        "#\n",
        "data.isnull().sum()"
      ],
      "metadata": {
        "id": "hQ9o0I04rpz0",
        "colab": {
          "base_uri": "https://localhost:8080/"
        },
        "outputId": "14334713-5cd2-462b-d506-552615b718e9"
      },
      "execution_count": null,
      "outputs": [
        {
          "output_type": "execute_result",
          "data": {
            "text/plain": [
              "ID              0\n",
              "Comp            0\n",
              "Circ            0\n",
              "D.Circ          0\n",
              "Rad.Ra          0\n",
              "Pr.Axis.Ra      0\n",
              "Max.L.Ra        0\n",
              "Scat.Ra         0\n",
              "Elong           0\n",
              "Pr.Axis.Rect    0\n",
              "Max.L.Rect      0\n",
              "Sc.Var.Maxis    0\n",
              "Sc.Var.maxis    0\n",
              "Ra.Gyr          0\n",
              "Skew.Maxis      0\n",
              "Skew.maxis      0\n",
              "Kurt.maxis      0\n",
              "Kurt.Maxis      0\n",
              "Holl.Ra         0\n",
              "Class           0\n",
              "dtype: int64"
            ]
          },
          "metadata": {},
          "execution_count": 10
        }
      ]
    },
    {
      "cell_type": "code",
      "source": [
        "data.describe().round(1).style.background_gradient()"
      ],
      "metadata": {
        "id": "BFVxkgM4t8-Z",
        "colab": {
          "base_uri": "https://localhost:8080/",
          "height": 320
        },
        "outputId": "3c9bff54-062f-4ee0-bcde-ad87f55f4e6c"
      },
      "execution_count": null,
      "outputs": [
        {
          "output_type": "execute_result",
          "data": {
            "text/plain": [
              "<pandas.io.formats.style.Styler at 0x7f7d391aba50>"
            ],
            "text/html": [
              "<style type=\"text/css\">\n",
              "#T_3278c_row0_col0, #T_3278c_row0_col1, #T_3278c_row0_col2, #T_3278c_row0_col3, #T_3278c_row0_col4, #T_3278c_row0_col5, #T_3278c_row0_col6, #T_3278c_row0_col7, #T_3278c_row0_col8, #T_3278c_row0_col9, #T_3278c_row0_col10, #T_3278c_row0_col11, #T_3278c_row0_col13, #T_3278c_row0_col14, #T_3278c_row0_col15, #T_3278c_row0_col16, #T_3278c_row0_col17, #T_3278c_row0_col18, #T_3278c_row0_col19, #T_3278c_row7_col0, #T_3278c_row7_col12 {\n",
              "  background-color: #023858;\n",
              "  color: #f1f1f1;\n",
              "}\n",
              "#T_3278c_row0_col12 {\n",
              "  background-color: #2d8abd;\n",
              "  color: #f1f1f1;\n",
              "}\n",
              "#T_3278c_row1_col0, #T_3278c_row5_col0 {\n",
              "  background-color: #73a9cf;\n",
              "  color: #f1f1f1;\n",
              "}\n",
              "#T_3278c_row1_col1, #T_3278c_row5_col1 {\n",
              "  background-color: #ede8f3;\n",
              "  color: #000000;\n",
              "}\n",
              "#T_3278c_row1_col2, #T_3278c_row3_col5, #T_3278c_row5_col2, #T_3278c_row6_col8, #T_3278c_row7_col16 {\n",
              "  background-color: #f7f0f7;\n",
              "  color: #000000;\n",
              "}\n",
              "#T_3278c_row1_col3, #T_3278c_row6_col14 {\n",
              "  background-color: #f1ebf4;\n",
              "  color: #000000;\n",
              "}\n",
              "#T_3278c_row1_col4, #T_3278c_row1_col7, #T_3278c_row4_col11 {\n",
              "  background-color: #dcdaeb;\n",
              "  color: #000000;\n",
              "}\n",
              "#T_3278c_row1_col5, #T_3278c_row4_col3, #T_3278c_row7_col8 {\n",
              "  background-color: #f4edf6;\n",
              "  color: #000000;\n",
              "}\n",
              "#T_3278c_row1_col6, #T_3278c_row1_col15, #T_3278c_row3_col12, #T_3278c_row5_col6, #T_3278c_row5_col15, #T_3278c_row6_col6 {\n",
              "  background-color: #fef6fa;\n",
              "  color: #000000;\n",
              "}\n",
              "#T_3278c_row1_col8, #T_3278c_row4_col2, #T_3278c_row5_col8 {\n",
              "  background-color: #f8f1f8;\n",
              "  color: #000000;\n",
              "}\n",
              "#T_3278c_row1_col9, #T_3278c_row3_col8, #T_3278c_row5_col9, #T_3278c_row6_col16 {\n",
              "  background-color: #fbf4f9;\n",
              "  color: #000000;\n",
              "}\n",
              "#T_3278c_row1_col10 {\n",
              "  background-color: #dedcec;\n",
              "  color: #000000;\n",
              "}\n",
              "#T_3278c_row1_col11 {\n",
              "  background-color: #d5d5e8;\n",
              "  color: #000000;\n",
              "}\n",
              "#T_3278c_row1_col12 {\n",
              "  background-color: #bcc7e1;\n",
              "  color: #000000;\n",
              "}\n",
              "#T_3278c_row1_col13, #T_3278c_row5_col11 {\n",
              "  background-color: #d9d8ea;\n",
              "  color: #000000;\n",
              "}\n",
              "#T_3278c_row1_col14, #T_3278c_row3_col1, #T_3278c_row5_col3, #T_3278c_row5_col14 {\n",
              "  background-color: #f1ebf5;\n",
              "  color: #000000;\n",
              "}\n",
              "#T_3278c_row1_col16, #T_3278c_row2_col16, #T_3278c_row5_col16, #T_3278c_row6_col15 {\n",
              "  background-color: #fdf5fa;\n",
              "  color: #000000;\n",
              "}\n",
              "#T_3278c_row1_col17, #T_3278c_row4_col18, #T_3278c_row5_col17 {\n",
              "  background-color: #ced0e6;\n",
              "  color: #000000;\n",
              "}\n",
              "#T_3278c_row1_col18, #T_3278c_row5_col18, #T_3278c_row6_col17 {\n",
              "  background-color: #cccfe5;\n",
              "  color: #000000;\n",
              "}\n",
              "#T_3278c_row1_col19, #T_3278c_row2_col1, #T_3278c_row2_col2, #T_3278c_row2_col3, #T_3278c_row2_col4, #T_3278c_row2_col5, #T_3278c_row2_col7, #T_3278c_row2_col8, #T_3278c_row2_col9, #T_3278c_row2_col10, #T_3278c_row2_col11, #T_3278c_row2_col12, #T_3278c_row2_col13, #T_3278c_row2_col14, #T_3278c_row2_col17, #T_3278c_row2_col18, #T_3278c_row2_col19, #T_3278c_row3_col0, #T_3278c_row3_col6, #T_3278c_row3_col15, #T_3278c_row3_col16, #T_3278c_row3_col19, #T_3278c_row4_col15, #T_3278c_row4_col19, #T_3278c_row5_col19, #T_3278c_row6_col19 {\n",
              "  background-color: #fff7fb;\n",
              "  color: #000000;\n",
              "}\n",
              "#T_3278c_row2_col0, #T_3278c_row7_col18 {\n",
              "  background-color: #c4cbe3;\n",
              "  color: #000000;\n",
              "}\n",
              "#T_3278c_row2_col6, #T_3278c_row2_col15, #T_3278c_row4_col6, #T_3278c_row4_col16, #T_3278c_row7_col19 {\n",
              "  background-color: #fef6fb;\n",
              "  color: #000000;\n",
              "}\n",
              "#T_3278c_row3_col2, #T_3278c_row4_col8, #T_3278c_row7_col9 {\n",
              "  background-color: #faf2f8;\n",
              "  color: #000000;\n",
              "}\n",
              "#T_3278c_row3_col3 {\n",
              "  background-color: #faf3f9;\n",
              "  color: #000000;\n",
              "}\n",
              "#T_3278c_row3_col4 {\n",
              "  background-color: #f0eaf4;\n",
              "  color: #000000;\n",
              "}\n",
              "#T_3278c_row3_col7, #T_3278c_row6_col3 {\n",
              "  background-color: #eee8f3;\n",
              "  color: #000000;\n",
              "}\n",
              "#T_3278c_row3_col9, #T_3278c_row4_col9 {\n",
              "  background-color: #fcf4fa;\n",
              "  color: #000000;\n",
              "}\n",
              "#T_3278c_row3_col10 {\n",
              "  background-color: #e7e3f0;\n",
              "  color: #000000;\n",
              "}\n",
              "#T_3278c_row3_col11 {\n",
              "  background-color: #e8e4f0;\n",
              "  color: #000000;\n",
              "}\n",
              "#T_3278c_row3_col13, #T_3278c_row4_col1 {\n",
              "  background-color: #eee9f3;\n",
              "  color: #000000;\n",
              "}\n",
              "#T_3278c_row3_col14, #T_3278c_row5_col5, #T_3278c_row7_col2, #T_3278c_row7_col6 {\n",
              "  background-color: #f4eef6;\n",
              "  color: #000000;\n",
              "}\n",
              "#T_3278c_row3_col17, #T_3278c_row6_col7, #T_3278c_row6_col13 {\n",
              "  background-color: #d2d3e7;\n",
              "  color: #000000;\n",
              "}\n",
              "#T_3278c_row3_col18 {\n",
              "  background-color: #d2d2e7;\n",
              "  color: #000000;\n",
              "}\n",
              "#T_3278c_row4_col0 {\n",
              "  background-color: #d0d1e6;\n",
              "  color: #000000;\n",
              "}\n",
              "#T_3278c_row4_col4 {\n",
              "  background-color: #e5e1ef;\n",
              "  color: #000000;\n",
              "}\n",
              "#T_3278c_row4_col5 {\n",
              "  background-color: #f5eef6;\n",
              "  color: #000000;\n",
              "}\n",
              "#T_3278c_row4_col7 {\n",
              "  background-color: #e3e0ee;\n",
              "  color: #000000;\n",
              "}\n",
              "#T_3278c_row4_col10 {\n",
              "  background-color: #e1dfed;\n",
              "  color: #000000;\n",
              "}\n",
              "#T_3278c_row4_col12, #T_3278c_row4_col13 {\n",
              "  background-color: #e2dfee;\n",
              "  color: #000000;\n",
              "}\n",
              "#T_3278c_row4_col14 {\n",
              "  background-color: #f2ecf5;\n",
              "  color: #000000;\n",
              "}\n",
              "#T_3278c_row4_col17, #T_3278c_row7_col10 {\n",
              "  background-color: #d1d2e6;\n",
              "  color: #000000;\n",
              "}\n",
              "#T_3278c_row5_col4 {\n",
              "  background-color: #dddbec;\n",
              "  color: #000000;\n",
              "}\n",
              "#T_3278c_row5_col7, #T_3278c_row7_col5 {\n",
              "  background-color: #e0dded;\n",
              "  color: #000000;\n",
              "}\n",
              "#T_3278c_row5_col10 {\n",
              "  background-color: #dfddec;\n",
              "  color: #000000;\n",
              "}\n",
              "#T_3278c_row5_col12 {\n",
              "  background-color: #d7d6e9;\n",
              "  color: #000000;\n",
              "}\n",
              "#T_3278c_row5_col13, #T_3278c_row6_col10 {\n",
              "  background-color: #dad9ea;\n",
              "  color: #000000;\n",
              "}\n",
              "#T_3278c_row6_col0 {\n",
              "  background-color: #056faf;\n",
              "  color: #f1f1f1;\n",
              "}\n",
              "#T_3278c_row6_col1 {\n",
              "  background-color: #ece7f2;\n",
              "  color: #000000;\n",
              "}\n",
              "#T_3278c_row6_col2 {\n",
              "  background-color: #f6eff7;\n",
              "  color: #000000;\n",
              "}\n",
              "#T_3278c_row6_col4 {\n",
              "  background-color: #d3d4e7;\n",
              "  color: #000000;\n",
              "}\n",
              "#T_3278c_row6_col5 {\n",
              "  background-color: #f3edf5;\n",
              "  color: #000000;\n",
              "}\n",
              "#T_3278c_row6_col9, #T_3278c_row7_col15 {\n",
              "  background-color: #fbf3f9;\n",
              "  color: #000000;\n",
              "}\n",
              "#T_3278c_row6_col11 {\n",
              "  background-color: #cacee5;\n",
              "  color: #000000;\n",
              "}\n",
              "#T_3278c_row6_col12 {\n",
              "  background-color: #79abd0;\n",
              "  color: #f1f1f1;\n",
              "}\n",
              "#T_3278c_row6_col18 {\n",
              "  background-color: #c9cee4;\n",
              "  color: #000000;\n",
              "}\n",
              "#T_3278c_row7_col1 {\n",
              "  background-color: #e6e2ef;\n",
              "  color: #000000;\n",
              "}\n",
              "#T_3278c_row7_col3 {\n",
              "  background-color: #eae6f1;\n",
              "  color: #000000;\n",
              "}\n",
              "#T_3278c_row7_col4 {\n",
              "  background-color: #8eb3d5;\n",
              "  color: #000000;\n",
              "}\n",
              "#T_3278c_row7_col7 {\n",
              "  background-color: #b3c3de;\n",
              "  color: #000000;\n",
              "}\n",
              "#T_3278c_row7_col11 {\n",
              "  background-color: #94b6d7;\n",
              "  color: #000000;\n",
              "}\n",
              "#T_3278c_row7_col13 {\n",
              "  background-color: #b4c4df;\n",
              "  color: #000000;\n",
              "}\n",
              "#T_3278c_row7_col14 {\n",
              "  background-color: #e0deed;\n",
              "  color: #000000;\n",
              "}\n",
              "#T_3278c_row7_col17 {\n",
              "  background-color: #c6cce3;\n",
              "  color: #000000;\n",
              "}\n",
              "</style>\n",
              "<table id=\"T_3278c_\" class=\"dataframe\">\n",
              "  <thead>\n",
              "    <tr>\n",
              "      <th class=\"blank level0\" >&nbsp;</th>\n",
              "      <th class=\"col_heading level0 col0\" >ID</th>\n",
              "      <th class=\"col_heading level0 col1\" >Comp</th>\n",
              "      <th class=\"col_heading level0 col2\" >Circ</th>\n",
              "      <th class=\"col_heading level0 col3\" >D.Circ</th>\n",
              "      <th class=\"col_heading level0 col4\" >Rad.Ra</th>\n",
              "      <th class=\"col_heading level0 col5\" >Pr.Axis.Ra</th>\n",
              "      <th class=\"col_heading level0 col6\" >Max.L.Ra</th>\n",
              "      <th class=\"col_heading level0 col7\" >Scat.Ra</th>\n",
              "      <th class=\"col_heading level0 col8\" >Elong</th>\n",
              "      <th class=\"col_heading level0 col9\" >Pr.Axis.Rect</th>\n",
              "      <th class=\"col_heading level0 col10\" >Max.L.Rect</th>\n",
              "      <th class=\"col_heading level0 col11\" >Sc.Var.Maxis</th>\n",
              "      <th class=\"col_heading level0 col12\" >Sc.Var.maxis</th>\n",
              "      <th class=\"col_heading level0 col13\" >Ra.Gyr</th>\n",
              "      <th class=\"col_heading level0 col14\" >Skew.Maxis</th>\n",
              "      <th class=\"col_heading level0 col15\" >Skew.maxis</th>\n",
              "      <th class=\"col_heading level0 col16\" >Kurt.maxis</th>\n",
              "      <th class=\"col_heading level0 col17\" >Kurt.Maxis</th>\n",
              "      <th class=\"col_heading level0 col18\" >Holl.Ra</th>\n",
              "      <th class=\"col_heading level0 col19\" >Class</th>\n",
              "    </tr>\n",
              "  </thead>\n",
              "  <tbody>\n",
              "    <tr>\n",
              "      <th id=\"T_3278c_level0_row0\" class=\"row_heading level0 row0\" >count</th>\n",
              "      <td id=\"T_3278c_row0_col0\" class=\"data row0 col0\" >719.000000</td>\n",
              "      <td id=\"T_3278c_row0_col1\" class=\"data row0 col1\" >719.000000</td>\n",
              "      <td id=\"T_3278c_row0_col2\" class=\"data row0 col2\" >719.000000</td>\n",
              "      <td id=\"T_3278c_row0_col3\" class=\"data row0 col3\" >719.000000</td>\n",
              "      <td id=\"T_3278c_row0_col4\" class=\"data row0 col4\" >719.000000</td>\n",
              "      <td id=\"T_3278c_row0_col5\" class=\"data row0 col5\" >719.000000</td>\n",
              "      <td id=\"T_3278c_row0_col6\" class=\"data row0 col6\" >719.000000</td>\n",
              "      <td id=\"T_3278c_row0_col7\" class=\"data row0 col7\" >719.000000</td>\n",
              "      <td id=\"T_3278c_row0_col8\" class=\"data row0 col8\" >719.000000</td>\n",
              "      <td id=\"T_3278c_row0_col9\" class=\"data row0 col9\" >719.000000</td>\n",
              "      <td id=\"T_3278c_row0_col10\" class=\"data row0 col10\" >719.000000</td>\n",
              "      <td id=\"T_3278c_row0_col11\" class=\"data row0 col11\" >719.000000</td>\n",
              "      <td id=\"T_3278c_row0_col12\" class=\"data row0 col12\" >719.000000</td>\n",
              "      <td id=\"T_3278c_row0_col13\" class=\"data row0 col13\" >719.000000</td>\n",
              "      <td id=\"T_3278c_row0_col14\" class=\"data row0 col14\" >719.000000</td>\n",
              "      <td id=\"T_3278c_row0_col15\" class=\"data row0 col15\" >719.000000</td>\n",
              "      <td id=\"T_3278c_row0_col16\" class=\"data row0 col16\" >719.000000</td>\n",
              "      <td id=\"T_3278c_row0_col17\" class=\"data row0 col17\" >719.000000</td>\n",
              "      <td id=\"T_3278c_row0_col18\" class=\"data row0 col18\" >719.000000</td>\n",
              "      <td id=\"T_3278c_row0_col19\" class=\"data row0 col19\" >719.000000</td>\n",
              "    </tr>\n",
              "    <tr>\n",
              "      <th id=\"T_3278c_level0_row1\" class=\"row_heading level0 row1\" >mean</th>\n",
              "      <td id=\"T_3278c_row1_col0\" class=\"data row1 col0\" >360.000000</td>\n",
              "      <td id=\"T_3278c_row1_col1\" class=\"data row1 col1\" >93.400000</td>\n",
              "      <td id=\"T_3278c_row1_col2\" class=\"data row1 col2\" >44.900000</td>\n",
              "      <td id=\"T_3278c_row1_col3\" class=\"data row1 col3\" >81.700000</td>\n",
              "      <td id=\"T_3278c_row1_col4\" class=\"data row1 col4\" >168.600000</td>\n",
              "      <td id=\"T_3278c_row1_col5\" class=\"data row1 col5\" >61.800000</td>\n",
              "      <td id=\"T_3278c_row1_col6\" class=\"data row1 col6\" >8.600000</td>\n",
              "      <td id=\"T_3278c_row1_col7\" class=\"data row1 col7\" >168.100000</td>\n",
              "      <td id=\"T_3278c_row1_col8\" class=\"data row1 col8\" >41.100000</td>\n",
              "      <td id=\"T_3278c_row1_col9\" class=\"data row1 col9\" >20.500000</td>\n",
              "      <td id=\"T_3278c_row1_col10\" class=\"data row1 col10\" >148.000000</td>\n",
              "      <td id=\"T_3278c_row1_col11\" class=\"data row1 col11\" >188.200000</td>\n",
              "      <td id=\"T_3278c_row1_col12\" class=\"data row1 col12\" >436.200000</td>\n",
              "      <td id=\"T_3278c_row1_col13\" class=\"data row1 col13\" >174.700000</td>\n",
              "      <td id=\"T_3278c_row1_col14\" class=\"data row1 col14\" >72.700000</td>\n",
              "      <td id=\"T_3278c_row1_col15\" class=\"data row1 col15\" >6.300000</td>\n",
              "      <td id=\"T_3278c_row1_col16\" class=\"data row1 col16\" >12.400000</td>\n",
              "      <td id=\"T_3278c_row1_col17\" class=\"data row1 col17\" >188.800000</td>\n",
              "      <td id=\"T_3278c_row1_col18\" class=\"data row1 col18\" >195.400000</td>\n",
              "      <td id=\"T_3278c_row1_col19\" class=\"data row1 col19\" >1.500000</td>\n",
              "    </tr>\n",
              "    <tr>\n",
              "      <th id=\"T_3278c_level0_row2\" class=\"row_heading level0 row2\" >std</th>\n",
              "      <td id=\"T_3278c_row2_col0\" class=\"data row2 col0\" >207.700000</td>\n",
              "      <td id=\"T_3278c_row2_col1\" class=\"data row2 col1\" >8.100000</td>\n",
              "      <td id=\"T_3278c_row2_col2\" class=\"data row2 col2\" >6.200000</td>\n",
              "      <td id=\"T_3278c_row2_col3\" class=\"data row2 col3\" >15.500000</td>\n",
              "      <td id=\"T_3278c_row2_col4\" class=\"data row2 col4\" >33.800000</td>\n",
              "      <td id=\"T_3278c_row2_col5\" class=\"data row2 col5\" >8.300000</td>\n",
              "      <td id=\"T_3278c_row2_col6\" class=\"data row2 col6\" >4.900000</td>\n",
              "      <td id=\"T_3278c_row2_col7\" class=\"data row2 col7\" >32.900000</td>\n",
              "      <td id=\"T_3278c_row2_col8\" class=\"data row2 col8\" >7.800000</td>\n",
              "      <td id=\"T_3278c_row2_col9\" class=\"data row2 col9\" >2.600000</td>\n",
              "      <td id=\"T_3278c_row2_col10\" class=\"data row2 col10\" >14.600000</td>\n",
              "      <td id=\"T_3278c_row2_col11\" class=\"data row2 col11\" >31.200000</td>\n",
              "      <td id=\"T_3278c_row2_col12\" class=\"data row2 col12\" >175.000000</td>\n",
              "      <td id=\"T_3278c_row2_col13\" class=\"data row2 col13\" >32.100000</td>\n",
              "      <td id=\"T_3278c_row2_col14\" class=\"data row2 col14\" >7.500000</td>\n",
              "      <td id=\"T_3278c_row2_col15\" class=\"data row2 col15\" >4.900000</td>\n",
              "      <td id=\"T_3278c_row2_col16\" class=\"data row2 col16\" >8.700000</td>\n",
              "      <td id=\"T_3278c_row2_col17\" class=\"data row2 col17\" >6.000000</td>\n",
              "      <td id=\"T_3278c_row2_col18\" class=\"data row2 col18\" >7.200000</td>\n",
              "      <td id=\"T_3278c_row2_col19\" class=\"data row2 col19\" >1.100000</td>\n",
              "    </tr>\n",
              "    <tr>\n",
              "      <th id=\"T_3278c_level0_row3\" class=\"row_heading level0 row3\" >min</th>\n",
              "      <td id=\"T_3278c_row3_col0\" class=\"data row3 col0\" >1.000000</td>\n",
              "      <td id=\"T_3278c_row3_col1\" class=\"data row3 col1\" >73.000000</td>\n",
              "      <td id=\"T_3278c_row3_col2\" class=\"data row3 col2\" >33.000000</td>\n",
              "      <td id=\"T_3278c_row3_col3\" class=\"data row3 col3\" >40.000000</td>\n",
              "      <td id=\"T_3278c_row3_col4\" class=\"data row3 col4\" >105.000000</td>\n",
              "      <td id=\"T_3278c_row3_col5\" class=\"data row3 col5\" >47.000000</td>\n",
              "      <td id=\"T_3278c_row3_col6\" class=\"data row3 col6\" >2.000000</td>\n",
              "      <td id=\"T_3278c_row3_col7\" class=\"data row3 col7\" >112.000000</td>\n",
              "      <td id=\"T_3278c_row3_col8\" class=\"data row3 col8\" >26.000000</td>\n",
              "      <td id=\"T_3278c_row3_col9\" class=\"data row3 col9\" >17.000000</td>\n",
              "      <td id=\"T_3278c_row3_col10\" class=\"data row3 col10\" >118.000000</td>\n",
              "      <td id=\"T_3278c_row3_col11\" class=\"data row3 col11\" >130.000000</td>\n",
              "      <td id=\"T_3278c_row3_col12\" class=\"data row3 col12\" >184.000000</td>\n",
              "      <td id=\"T_3278c_row3_col13\" class=\"data row3 col13\" >109.000000</td>\n",
              "      <td id=\"T_3278c_row3_col14\" class=\"data row3 col14\" >59.000000</td>\n",
              "      <td id=\"T_3278c_row3_col15\" class=\"data row3 col15\" >0.000000</td>\n",
              "      <td id=\"T_3278c_row3_col16\" class=\"data row3 col16\" >0.000000</td>\n",
              "      <td id=\"T_3278c_row3_col17\" class=\"data row3 col17\" >176.000000</td>\n",
              "      <td id=\"T_3278c_row3_col18\" class=\"data row3 col18\" >181.000000</td>\n",
              "      <td id=\"T_3278c_row3_col19\" class=\"data row3 col19\" >0.000000</td>\n",
              "    </tr>\n",
              "    <tr>\n",
              "      <th id=\"T_3278c_level0_row4\" class=\"row_heading level0 row4\" >25%</th>\n",
              "      <td id=\"T_3278c_row4_col0\" class=\"data row4 col0\" >180.500000</td>\n",
              "      <td id=\"T_3278c_row4_col1\" class=\"data row4 col1\" >87.000000</td>\n",
              "      <td id=\"T_3278c_row4_col2\" class=\"data row4 col2\" >40.000000</td>\n",
              "      <td id=\"T_3278c_row4_col3\" class=\"data row4 col3\" >70.000000</td>\n",
              "      <td id=\"T_3278c_row4_col4\" class=\"data row4 col4\" >141.000000</td>\n",
              "      <td id=\"T_3278c_row4_col5\" class=\"data row4 col5\" >57.000000</td>\n",
              "      <td id=\"T_3278c_row4_col6\" class=\"data row4 col6\" >6.000000</td>\n",
              "      <td id=\"T_3278c_row4_col7\" class=\"data row4 col7\" >146.000000</td>\n",
              "      <td id=\"T_3278c_row4_col8\" class=\"data row4 col8\" >33.000000</td>\n",
              "      <td id=\"T_3278c_row4_col9\" class=\"data row4 col9\" >19.000000</td>\n",
              "      <td id=\"T_3278c_row4_col10\" class=\"data row4 col10\" >137.000000</td>\n",
              "      <td id=\"T_3278c_row4_col11\" class=\"data row4 col11\" >167.000000</td>\n",
              "      <td id=\"T_3278c_row4_col12\" class=\"data row4 col12\" >317.000000</td>\n",
              "      <td id=\"T_3278c_row4_col13\" class=\"data row4 col13\" >149.000000</td>\n",
              "      <td id=\"T_3278c_row4_col14\" class=\"data row4 col14\" >68.000000</td>\n",
              "      <td id=\"T_3278c_row4_col15\" class=\"data row4 col15\" >2.000000</td>\n",
              "      <td id=\"T_3278c_row4_col16\" class=\"data row4 col16\" >5.500000</td>\n",
              "      <td id=\"T_3278c_row4_col17\" class=\"data row4 col17\" >184.000000</td>\n",
              "      <td id=\"T_3278c_row4_col18\" class=\"data row4 col18\" >190.000000</td>\n",
              "      <td id=\"T_3278c_row4_col19\" class=\"data row4 col19\" >0.000000</td>\n",
              "    </tr>\n",
              "    <tr>\n",
              "      <th id=\"T_3278c_level0_row5\" class=\"row_heading level0 row5\" >50%</th>\n",
              "      <td id=\"T_3278c_row5_col0\" class=\"data row5 col0\" >360.000000</td>\n",
              "      <td id=\"T_3278c_row5_col1\" class=\"data row5 col1\" >93.000000</td>\n",
              "      <td id=\"T_3278c_row5_col2\" class=\"data row5 col2\" >44.000000</td>\n",
              "      <td id=\"T_3278c_row5_col3\" class=\"data row5 col3\" >79.000000</td>\n",
              "      <td id=\"T_3278c_row5_col4\" class=\"data row5 col4\" >166.000000</td>\n",
              "      <td id=\"T_3278c_row5_col5\" class=\"data row5 col5\" >61.000000</td>\n",
              "      <td id=\"T_3278c_row5_col6\" class=\"data row5 col6\" >8.000000</td>\n",
              "      <td id=\"T_3278c_row5_col7\" class=\"data row5 col7\" >157.000000</td>\n",
              "      <td id=\"T_3278c_row5_col8\" class=\"data row5 col8\" >43.000000</td>\n",
              "      <td id=\"T_3278c_row5_col9\" class=\"data row5 col9\" >20.000000</td>\n",
              "      <td id=\"T_3278c_row5_col10\" class=\"data row5 col10\" >146.000000</td>\n",
              "      <td id=\"T_3278c_row5_col11\" class=\"data row5 col11\" >178.000000</td>\n",
              "      <td id=\"T_3278c_row5_col12\" class=\"data row5 col12\" >362.000000</td>\n",
              "      <td id=\"T_3278c_row5_col13\" class=\"data row5 col13\" >174.000000</td>\n",
              "      <td id=\"T_3278c_row5_col14\" class=\"data row5 col14\" >72.000000</td>\n",
              "      <td id=\"T_3278c_row5_col15\" class=\"data row5 col15\" >6.000000</td>\n",
              "      <td id=\"T_3278c_row5_col16\" class=\"data row5 col16\" >11.000000</td>\n",
              "      <td id=\"T_3278c_row5_col17\" class=\"data row5 col17\" >188.000000</td>\n",
              "      <td id=\"T_3278c_row5_col18\" class=\"data row5 col18\" >196.000000</td>\n",
              "      <td id=\"T_3278c_row5_col19\" class=\"data row5 col19\" >1.000000</td>\n",
              "    </tr>\n",
              "    <tr>\n",
              "      <th id=\"T_3278c_level0_row6\" class=\"row_heading level0 row6\" >75%</th>\n",
              "      <td id=\"T_3278c_row6_col0\" class=\"data row6 col0\" >539.500000</td>\n",
              "      <td id=\"T_3278c_row6_col1\" class=\"data row6 col1\" >99.000000</td>\n",
              "      <td id=\"T_3278c_row6_col2\" class=\"data row6 col2\" >49.000000</td>\n",
              "      <td id=\"T_3278c_row6_col3\" class=\"data row6 col3\" >96.000000</td>\n",
              "      <td id=\"T_3278c_row6_col4\" class=\"data row6 col4\" >194.500000</td>\n",
              "      <td id=\"T_3278c_row6_col5\" class=\"data row6 col5\" >65.000000</td>\n",
              "      <td id=\"T_3278c_row6_col6\" class=\"data row6 col6\" >10.000000</td>\n",
              "      <td id=\"T_3278c_row6_col7\" class=\"data row6 col7\" >197.500000</td>\n",
              "      <td id=\"T_3278c_row6_col8\" class=\"data row6 col8\" >46.000000</td>\n",
              "      <td id=\"T_3278c_row6_col9\" class=\"data row6 col9\" >23.000000</td>\n",
              "      <td id=\"T_3278c_row6_col10\" class=\"data row6 col10\" >159.000000</td>\n",
              "      <td id=\"T_3278c_row6_col11\" class=\"data row6 col11\" >216.000000</td>\n",
              "      <td id=\"T_3278c_row6_col12\" class=\"data row6 col12\" >584.500000</td>\n",
              "      <td id=\"T_3278c_row6_col13\" class=\"data row6 col13\" >198.000000</td>\n",
              "      <td id=\"T_3278c_row6_col14\" class=\"data row6 col14\" >76.000000</td>\n",
              "      <td id=\"T_3278c_row6_col15\" class=\"data row6 col15\" >9.000000</td>\n",
              "      <td id=\"T_3278c_row6_col16\" class=\"data row6 col16\" >18.000000</td>\n",
              "      <td id=\"T_3278c_row6_col17\" class=\"data row6 col17\" >193.000000</td>\n",
              "      <td id=\"T_3278c_row6_col18\" class=\"data row6 col18\" >201.000000</td>\n",
              "      <td id=\"T_3278c_row6_col19\" class=\"data row6 col19\" >2.000000</td>\n",
              "    </tr>\n",
              "    <tr>\n",
              "      <th id=\"T_3278c_level0_row7\" class=\"row_heading level0 row7\" >max</th>\n",
              "      <td id=\"T_3278c_row7_col0\" class=\"data row7 col0\" >719.000000</td>\n",
              "      <td id=\"T_3278c_row7_col1\" class=\"data row7 col1\" >119.000000</td>\n",
              "      <td id=\"T_3278c_row7_col2\" class=\"data row7 col2\" >59.000000</td>\n",
              "      <td id=\"T_3278c_row7_col3\" class=\"data row7 col3\" >110.000000</td>\n",
              "      <td id=\"T_3278c_row7_col4\" class=\"data row7 col4\" >333.000000</td>\n",
              "      <td id=\"T_3278c_row7_col5\" class=\"data row7 col5\" >138.000000</td>\n",
              "      <td id=\"T_3278c_row7_col6\" class=\"data row7 col6\" >55.000000</td>\n",
              "      <td id=\"T_3278c_row7_col7\" class=\"data row7 col7\" >265.000000</td>\n",
              "      <td id=\"T_3278c_row7_col8\" class=\"data row7 col8\" >61.000000</td>\n",
              "      <td id=\"T_3278c_row7_col9\" class=\"data row7 col9\" >29.000000</td>\n",
              "      <td id=\"T_3278c_row7_col10\" class=\"data row7 col10\" >188.000000</td>\n",
              "      <td id=\"T_3278c_row7_col11\" class=\"data row7 col11\" >320.000000</td>\n",
              "      <td id=\"T_3278c_row7_col12\" class=\"data row7 col12\" >1018.000000</td>\n",
              "      <td id=\"T_3278c_row7_col13\" class=\"data row7 col13\" >262.000000</td>\n",
              "      <td id=\"T_3278c_row7_col14\" class=\"data row7 col14\" >135.000000</td>\n",
              "      <td id=\"T_3278c_row7_col15\" class=\"data row7 col15\" >22.000000</td>\n",
              "      <td id=\"T_3278c_row7_col16\" class=\"data row7 col16\" >41.000000</td>\n",
              "      <td id=\"T_3278c_row7_col17\" class=\"data row7 col17\" >204.000000</td>\n",
              "      <td id=\"T_3278c_row7_col18\" class=\"data row7 col18\" >211.000000</td>\n",
              "      <td id=\"T_3278c_row7_col19\" class=\"data row7 col19\" >3.000000</td>\n",
              "    </tr>\n",
              "  </tbody>\n",
              "</table>\n"
            ]
          },
          "metadata": {},
          "execution_count": 11
        }
      ]
    },
    {
      "cell_type": "code",
      "source": [
        "data.Comp.unique()"
      ],
      "metadata": {
        "id": "dp_cNxMJjTje",
        "colab": {
          "base_uri": "https://localhost:8080/"
        },
        "outputId": "9d8963d1-5d0e-4167-877b-fa552ecd4463"
      },
      "execution_count": null,
      "outputs": [
        {
          "output_type": "execute_result",
          "data": {
            "text/plain": [
              "array([ 88,  85,  91, 102,  87,  95,  97,  96, 107,  86,  89,  92, 104,\n",
              "        81,  94,  93, 111,  82, 106,  99,  78,  83,  84, 100, 109,  90,\n",
              "       101,  79, 117,  98, 105, 108,  80, 103, 110, 112,  77, 115, 119,\n",
              "        73, 114,  76, 113])"
            ]
          },
          "metadata": {},
          "execution_count": 12
        }
      ]
    },
    {
      "cell_type": "code",
      "source": [
        "data.Circ.unique()"
      ],
      "metadata": {
        "colab": {
          "base_uri": "https://localhost:8080/"
        },
        "id": "NmkV7K_ZCo-M",
        "outputId": "318f6502-aa82-445c-da0f-7415ea6e355b"
      },
      "execution_count": null,
      "outputs": [
        {
          "output_type": "execute_result",
          "data": {
            "text/plain": [
              "array([39, 35, 41, 54, 46, 37, 55, 38, 40, 45, 36, 34, 52, 51, 47, 44, 53,\n",
              "       43, 57, 50, 42, 59, 48, 56, 33, 58, 49])"
            ]
          },
          "metadata": {},
          "execution_count": 13
        }
      ]
    },
    {
      "cell_type": "code",
      "source": [
        "data['D.Circ'].unique()"
      ],
      "metadata": {
        "colab": {
          "base_uri": "https://localhost:8080/"
        },
        "id": "gq7IQejxC2-B",
        "outputId": "a845a1fb-1a7b-4ba2-fa52-ec2030553855"
      },
      "execution_count": null,
      "outputs": [
        {
          "output_type": "execute_result",
          "data": {
            "text/plain": [
              "array([ 70,  64,  84,  98,  74,  76,  66,  89,  58,  83,  78, 109,  71,\n",
              "        53,  82, 103,  59,  68, 100, 101, 104,  63,  69,  77,  96,  92,\n",
              "        81, 105,  73,  88,  80, 107,  72, 106,  85,  65,  79,  75, 108,\n",
              "        87,  86,  54, 110,  47,  90,  40,  95,  60,  61,  93,  94, 102,\n",
              "        62,  91,  52,  44,  57,  55,  51,  49])"
            ]
          },
          "metadata": {},
          "execution_count": 14
        }
      ]
    },
    {
      "cell_type": "code",
      "source": [
        "data['Rad.Ra'].unique()"
      ],
      "metadata": {
        "colab": {
          "base_uri": "https://localhost:8080/"
        },
        "id": "8O_p6Q4RDABp",
        "outputId": "efd76f91-e688-48a3-9634-06b720bf421c"
      },
      "execution_count": null,
      "outputs": [
        {
          "output_type": "execute_result",
          "data": {
            "text/plain": [
              "array([166, 129, 141, 177, 152, 162, 151, 199, 176, 137, 154, 186, 175,\n",
              "       149, 230, 117, 213, 145, 171, 163, 134, 169, 224, 219, 208, 115,\n",
              "       127, 142, 153, 188, 194, 143, 183, 164, 225, 180, 140, 207, 133,\n",
              "       209, 147, 210, 113, 150, 206, 187, 139, 123, 132, 227, 306, 228,\n",
              "       110, 159, 170, 201, 202, 182, 189, 195, 128, 131, 155, 116, 181,\n",
              "       172, 197, 119, 173, 121, 231, 135, 220, 204, 130, 126, 111, 203,\n",
              "       161, 165, 191, 185, 179, 212, 223, 222, 125, 192, 160, 218, 148,\n",
              "       136, 211, 124, 178, 198, 193, 174, 144, 167, 122, 157, 138, 158,\n",
              "       146, 196, 168, 322, 156, 221, 190, 120, 205, 184, 214, 215, 252,\n",
              "       114, 235, 109, 234, 246, 250, 216, 200, 118, 238, 105, 217, 112,\n",
              "       333, 226])"
            ]
          },
          "metadata": {},
          "execution_count": 15
        }
      ]
    },
    {
      "cell_type": "code",
      "source": [
        "data['Pr.Axis.Ra'].unique()"
      ],
      "metadata": {
        "colab": {
          "base_uri": "https://localhost:8080/"
        },
        "id": "eMrwYDFtDOCr",
        "outputId": "959d7a11-d3e4-46cb-c924-d6c242743ea7"
      },
      "execution_count": null,
      "outputs": [
        {
          "output_type": "execute_result",
          "data": {
            "text/plain": [
              "array([ 66,  57,  56,  58,  64,  74,  59,  73,  60,  55,  67,  61,  71,\n",
              "        50,  63,  68,  51,  54,  75,  62,  70,  65, 126,  53,  69,  52,\n",
              "        97,  48,  72,  49,  47, 133, 103, 105,  76, 102, 138])"
            ]
          },
          "metadata": {},
          "execution_count": 16
        }
      ]
    },
    {
      "cell_type": "code",
      "source": [
        "data['Max.L.Ra'].unique()"
      ],
      "metadata": {
        "colab": {
          "base_uri": "https://localhost:8080/"
        },
        "id": "tjLGZAimDR_5",
        "outputId": "02f167c8-afdc-4e36-ca66-96acc255573b"
      },
      "execution_count": null,
      "outputs": [
        {
          "output_type": "execute_result",
          "data": {
            "text/plain": [
              "array([ 7,  6,  9, 10, 11,  8,  5, 12,  4, 49,  3, 13, 22, 46,  2, 48, 52,\n",
              "       25, 55, 43, 19])"
            ]
          },
          "metadata": {},
          "execution_count": 17
        }
      ]
    },
    {
      "cell_type": "code",
      "source": [
        "data['Sc.Var.Maxis'].unique()"
      ],
      "metadata": {
        "colab": {
          "base_uri": "https://localhost:8080/"
        },
        "id": "ymMwnWugDV4B",
        "outputId": "1b2c703f-f454-4c27-c2d4-55bf3cd4e655"
      },
      "execution_count": null,
      "outputs": [
        {
          "output_type": "execute_result",
          "data": {
            "text/plain": [
              "array([167, 138, 170, 219, 174, 175, 148, 188, 258, 190, 146, 185, 180,\n",
              "       168, 230, 177, 204, 227, 173, 151, 225, 222, 228, 210, 162, 155,\n",
              "       158, 165, 159, 206, 247, 153, 193, 226, 171, 214, 166, 234, 223,\n",
              "       181, 208, 169, 161, 189, 184, 172, 231, 272, 256, 136, 147, 197,\n",
              "       203, 211, 236, 186, 213, 164, 154, 156, 130, 262, 141, 137, 179,\n",
              "       217, 235, 202, 200, 176, 232, 196, 199, 182, 265, 229, 160, 149,\n",
              "       218, 152, 163, 220, 139, 221, 157, 280, 209, 195, 140, 216, 212,\n",
              "       194, 238, 183, 191, 142, 266, 143, 207, 224, 187, 215, 150, 178,\n",
              "       275, 237, 269, 285, 144, 134, 241, 240, 264, 135, 192, 145, 205,\n",
              "       267, 246, 287, 288, 320, 263, 254])"
            ]
          },
          "metadata": {},
          "execution_count": 18
        }
      ]
    },
    {
      "cell_type": "code",
      "source": [
        "data['Sc.Var.maxis'].unique()"
      ],
      "metadata": {
        "colab": {
          "base_uri": "https://localhost:8080/"
        },
        "id": "IRVJfvTpDcvJ",
        "outputId": "d95773d2-0f09-4bf7-da2b-af6a5a4b9318"
      },
      "execution_count": null,
      "outputs": [
        {
          "output_type": "execute_result",
          "data": {
            "text/plain": [
              "array([ 332,  200,  330,  706,  337,  381,  246,  419,  866,  428,  225,\n",
              "        382,  379,  370,  321,  347,  205,  533,  371,  727,  368,  264,\n",
              "        336,  686,  679,  737,  543,  299,  274,  364,  284,  319,  289,\n",
              "        530,  731,  266,  426,  305,  713,  362,  596,  359,  349,  756,\n",
              "        314,  635,  373,  546,  311,  285,  586,  339,  415,  275,  383,\n",
              "        260,  663,  318,  625,  732,  404,  374,  611,  346,  833,  352,\n",
              "        229,  668,  203,  322,  259,  445,  523,  506,  661,  696,  492,\n",
              "        307,  673,  427,  402,  578,  310,  324,  240,  741,  184,  776,\n",
              "        221,  348,  197,  325,  712,  367,  631,  677,  711,  326,  622,\n",
              "        716,  485,  351,  718,  425,  757,  504,  366,  450,  320,  342,\n",
              "        272,  629,  391,  666,  327,  870,  237,  253,  684,  258,  363,\n",
              "        671,  335,  524,  389,  583,  607,  406,  707,  653,  220,  701,\n",
              "        265,  277,  281,  928,  721,  455,  517,  323,  472,  294,  212,\n",
              "        610,  520,  340,  418,  290,  526,  333,  308,  535,  722,  602,\n",
              "        682,  208,  624,  287,  361,  460,  282,  341,  576,  685,  252,\n",
              "        385,  355,  703,  487,  262,  306,  301,  494,  334,  408,  511,\n",
              "        642,  680,  589,  249,  658,  375,  396,  438,  648,  256,  433,\n",
              "        338,  358,  273,  376,  892,  223,  331,  572,  261,  270,  369,\n",
              "        312,  329,  279,  298,  534,  691,  608,  238,  545,  309,  669,\n",
              "        670,  434,  345,  639,  254,  489,  300,  388,  725,  263,  440,\n",
              "        476,  595,  600,  665,  687,  562,  354,  315,  317,  465,  748,\n",
              "        644,  255,  296,  271,  657,  344,  479,  645,  956,  356,  728,\n",
              "        401,  904,  219,  512,  627,  567,  987,  692,  209,  601,  518,\n",
              "        694,  365,  674,  471,  233,  681,  416,  241,  697,  709,  513,\n",
              "        574,  268,  195,  409,  700,  251,  280,  710,  726,  357,  597,\n",
              "        430,  719,  575,  206,  204,  328,  650,  717,  855,  558,  278,\n",
              "        678,  196,  387,  372,  508,  469,  343,  393,  527,  587,  563,\n",
              "        459,  641,  446,  675,  247,  467,  227,  232,  243,  708,  857,\n",
              "        230,  704,  766,  968,  623,  923,  605,  473,  458,  954,  295,\n",
              "        350,  640,  481,  245,  390,  651,  570,  218,  521,  844,  612,\n",
              "        399,  304,  676,  224,  405,  478,  207,  688,  360,  250,  216,\n",
              "        417,  621,  729,  613,  683,  291,  429,  667,  638,  435,  616,\n",
              "        413,  242,  463,  982,  211,  720,  316,  559,  480,  752,  525,\n",
              "        378,  598,  636,  474,  838,  466,  579,  966,  422,  735,  557,\n",
              "        505,  519,  222, 1018,  698,  414])"
            ]
          },
          "metadata": {},
          "execution_count": 19
        }
      ]
    },
    {
      "cell_type": "code",
      "source": [
        "data['Ra.Gyr'].unique()"
      ],
      "metadata": {
        "colab": {
          "base_uri": "https://localhost:8080/"
        },
        "id": "IlislaVvEdth",
        "outputId": "6f1420e9-c455-46d8-cb28-2f7f5047d8bc"
      },
      "execution_count": null,
      "outputs": [
        {
          "output_type": "execute_result",
          "data": {
            "text/plain": [
              "array([143, 123, 158, 223, 140, 172, 112, 136, 245, 148, 150, 184, 169,\n",
              "       134, 226, 190, 138, 182, 189, 201, 176, 186, 220, 214, 213, 146,\n",
              "       162, 188, 120, 137, 205, 209, 127, 171, 202, 132, 173, 149, 181,\n",
              "       174, 191, 179, 175, 155, 121, 145, 219, 218, 200, 253, 199, 128,\n",
              "       139, 152, 183, 230, 216, 217, 130, 195, 177, 192, 204, 164, 126,\n",
              "       193, 119, 246, 178, 142, 151, 159, 185, 153, 187, 247, 168, 133,\n",
              "       180, 157, 234, 135, 124, 198, 211, 224, 197, 239, 154, 141, 222,\n",
              "       160, 129, 167, 229, 170, 206, 144, 210, 156, 196, 240, 163, 166,\n",
              "       242, 235, 212, 194, 161, 203, 236, 250, 125, 215, 244, 117, 165,\n",
              "       260, 114, 221, 208, 228, 131, 147, 232, 113, 231, 261, 262, 249,\n",
              "       118, 115, 109, 238, 116, 237, 207, 255])"
            ]
          },
          "metadata": {},
          "execution_count": 20
        }
      ]
    },
    {
      "cell_type": "code",
      "source": [
        "data['Skew.Maxis'].unique()"
      ],
      "metadata": {
        "colab": {
          "base_uri": "https://localhost:8080/"
        },
        "id": "Bw4A3jO3E1Fq",
        "outputId": "3fbeae15-fec6-43dc-a047-d913fbe150ed"
      },
      "execution_count": null,
      "outputs": [
        {
          "output_type": "execute_result",
          "data": {
            "text/plain": [
              "array([ 69,  65,  72,  70,  74,  66,  80,  67,  63,  71,  73,  64,  85,\n",
              "        77,  82,  75,  68,  62,  81,  78, 118,  76,  89,  83,  86,  79,\n",
              "        87,  91,  84,  61,  90,  97,  59, 119, 127,  88,  99,  60, 135])"
            ]
          },
          "metadata": {},
          "execution_count": 21
        }
      ]
    },
    {
      "cell_type": "code",
      "source": [
        "data['Skew.maxis'].unique()"
      ],
      "metadata": {
        "colab": {
          "base_uri": "https://localhost:8080/"
        },
        "id": "dUqfVOosE4jK",
        "outputId": "0209e167-d836-48f9-96d3-e79b91c2f819"
      },
      "execution_count": null,
      "outputs": [
        {
          "output_type": "execute_result",
          "data": {
            "text/plain": [
              "array([ 5,  1,  9,  8,  6,  3,  7, 10, 16,  4,  2, 15, 11,  0, 14, 12, 13,\n",
              "       21, 19, 17, 20, 18, 22])"
            ]
          },
          "metadata": {},
          "execution_count": 22
        }
      ]
    },
    {
      "cell_type": "code",
      "source": [
        "data['Kurt.Maxis'].unique()"
      ],
      "metadata": {
        "colab": {
          "base_uri": "https://localhost:8080/"
        },
        "id": "uLwvvyvxE9Rh",
        "outputId": "0bcf5a9d-2803-4d46-882d-6c8d42cf54ff"
      },
      "execution_count": null,
      "outputs": [
        {
          "output_type": "execute_result",
          "data": {
            "text/plain": [
              "array([193, 196, 189, 186, 187, 184, 195, 199, 198, 197, 191, 182, 180,\n",
              "       183, 190, 179, 185, 181, 204, 201, 188, 194, 192, 177, 178, 200,\n",
              "       203, 202, 176])"
            ]
          },
          "metadata": {},
          "execution_count": 23
        }
      ]
    },
    {
      "cell_type": "code",
      "source": [
        "data['Holl.Ra'].unique()"
      ],
      "metadata": {
        "colab": {
          "base_uri": "https://localhost:8080/"
        },
        "id": "wSzG9SssFA_x",
        "outputId": "3ebcfa8b-bfeb-4ea7-e966-13b45c127df2"
      },
      "execution_count": null,
      "outputs": [
        {
          "output_type": "execute_result",
          "data": {
            "text/plain": [
              "array([201, 203, 199, 196, 193, 200, 184, 202, 206, 191, 197, 187, 183,\n",
              "       198, 194, 185, 189, 195, 190, 210, 209, 186, 204, 207, 188, 208,\n",
              "       205, 192, 182, 211, 181])"
            ]
          },
          "metadata": {},
          "execution_count": 24
        }
      ]
    },
    {
      "cell_type": "code",
      "source": [
        "data['Class'].unique()"
      ],
      "metadata": {
        "colab": {
          "base_uri": "https://localhost:8080/"
        },
        "id": "9LYhRSHkFFCw",
        "outputId": "fe953003-6cc6-48c1-98bb-f595176a9500"
      },
      "execution_count": null,
      "outputs": [
        {
          "output_type": "execute_result",
          "data": {
            "text/plain": [
              "array([0, 3, 1, 2])"
            ]
          },
          "metadata": {},
          "execution_count": 25
        }
      ]
    },
    {
      "cell_type": "markdown",
      "source": [
        "### Features "
      ],
      "metadata": {
        "id": "7zLc7JjFGW7Z"
      }
    },
    {
      "cell_type": "markdown",
      "source": [
        "Again gather the Info of the data to find the data type "
      ],
      "metadata": {
        "id": "97nTi6DPMwDK"
      }
    },
    {
      "cell_type": "code",
      "source": [
        "data.info() "
      ],
      "metadata": {
        "colab": {
          "base_uri": "https://localhost:8080/"
        },
        "id": "OL0hJXvHGjRh",
        "outputId": "a5f53acc-082d-4244-f7f6-28f02023b42c"
      },
      "execution_count": null,
      "outputs": [
        {
          "output_type": "stream",
          "name": "stdout",
          "text": [
            "<class 'pandas.core.frame.DataFrame'>\n",
            "RangeIndex: 719 entries, 0 to 718\n",
            "Data columns (total 20 columns):\n",
            " #   Column        Non-Null Count  Dtype\n",
            "---  ------        --------------  -----\n",
            " 0   ID            719 non-null    int64\n",
            " 1   Comp          719 non-null    int64\n",
            " 2   Circ          719 non-null    int64\n",
            " 3   D.Circ        719 non-null    int64\n",
            " 4   Rad.Ra        719 non-null    int64\n",
            " 5   Pr.Axis.Ra    719 non-null    int64\n",
            " 6   Max.L.Ra      719 non-null    int64\n",
            " 7   Scat.Ra       719 non-null    int64\n",
            " 8   Elong         719 non-null    int64\n",
            " 9   Pr.Axis.Rect  719 non-null    int64\n",
            " 10  Max.L.Rect    719 non-null    int64\n",
            " 11  Sc.Var.Maxis  719 non-null    int64\n",
            " 12  Sc.Var.maxis  719 non-null    int64\n",
            " 13  Ra.Gyr        719 non-null    int64\n",
            " 14  Skew.Maxis    719 non-null    int64\n",
            " 15  Skew.maxis    719 non-null    int64\n",
            " 16  Kurt.maxis    719 non-null    int64\n",
            " 17  Kurt.Maxis    719 non-null    int64\n",
            " 18  Holl.Ra       719 non-null    int64\n",
            " 19  Class         719 non-null    int64\n",
            "dtypes: int64(20)\n",
            "memory usage: 112.5 KB\n"
          ]
        }
      ]
    },
    {
      "cell_type": "markdown",
      "source": [
        "We don't need to change the type of features, All the features are Numerical types only."
      ],
      "metadata": {
        "id": "wS5juT84MpVi"
      }
    },
    {
      "cell_type": "markdown",
      "source": [
        "##Feature Relevance "
      ],
      "metadata": {
        "id": "_flqX8NwHTUp"
      }
    },
    {
      "cell_type": "code",
      "source": [
        "import seaborn as sns"
      ],
      "metadata": {
        "id": "TIUwP3P0HSPR"
      },
      "execution_count": null,
      "outputs": []
    },
    {
      "cell_type": "code",
      "source": [
        "cls1 = sns.stripplot(x=('Comp'), y=('Class'), data=data, size=7)"
      ],
      "metadata": {
        "colab": {
          "base_uri": "https://localhost:8080/",
          "height": 279
        },
        "id": "R8pjPrpFHapr",
        "outputId": "664f34f6-e504-4615-d7e1-751bbde0fb8f"
      },
      "execution_count": null,
      "outputs": [
        {
          "output_type": "display_data",
          "data": {
            "text/plain": [
              "<Figure size 432x288 with 1 Axes>"
            ],
            "image/png": "[encoded data removed]"
          },
          "metadata": {
            "needs_background": "light"
          }
        }
      ]
    },
    {
      "cell_type": "code",
      "source": [
        "cls1 = sns.stripplot( x =('Comp'), y=('Class'), data=data, size=7)"
      ],
      "metadata": {
        "colab": {
          "base_uri": "https://localhost:8080/",
          "height": 279
        },
        "id": "qh2TJ3PmJ1Xy",
        "outputId": "7bcf9533-81dc-4456-9b83-92f9a5cb5dbf"
      },
      "execution_count": null,
      "outputs": [
        {
          "output_type": "display_data",
          "data": {
            "text/plain": [
              "<Figure size 432x288 with 1 Axes>"
            ],
            "image/png": "[encoded data removed]"
          },
          "metadata": {
            "needs_background": "light"
          }
        }
      ]
    },
    {
      "cell_type": "markdown",
      "source": [
        "## Imbalnce Check "
      ],
      "metadata": {
        "id": "AM2po8gCKhRa"
      }
    },
    {
      "cell_type": "code",
      "source": [
        "# first we need to find the Imbalance of the data \n",
        "\n",
        "data.Class.value_counts()\n"
      ],
      "metadata": {
        "colab": {
          "base_uri": "https://localhost:8080/"
        },
        "id": "T0ieXybwKmta",
        "outputId": "2bdd54f2-c161-45ae-bbf3-c8ee3be5c275"
      },
      "execution_count": null,
      "outputs": [
        {
          "output_type": "execute_result",
          "data": {
            "text/plain": [
              "0    189\n",
              "1    180\n",
              "3    177\n",
              "2    173\n",
              "Name: Class, dtype: int64"
            ]
          },
          "metadata": {},
          "execution_count": 30
        }
      ]
    },
    {
      "cell_type": "markdown",
      "source": [
        "data is blanced condition only so hence don't need any balancing "
      ],
      "metadata": {
        "id": "M2U5qkgUMSTJ"
      }
    },
    {
      "cell_type": "markdown",
      "source": [
        "## X and Y Split "
      ],
      "metadata": {
        "id": "YjOzszm4NIbb"
      }
    },
    {
      "cell_type": "code",
      "source": [
        "y = data ['Class']"
      ],
      "metadata": {
        "id": "pyPzPvZuNMBT"
      },
      "execution_count": null,
      "outputs": []
    },
    {
      "cell_type": "code",
      "source": [
        "x= data.drop('Class',axis=1)"
      ],
      "metadata": {
        "id": "QyptbuRjNT9C"
      },
      "execution_count": null,
      "outputs": []
    },
    {
      "cell_type": "markdown",
      "source": [
        "So Here we are split the data into X and Y for train the data and Test the data for scalling the features "
      ],
      "metadata": {
        "id": "RXw8v0MYNjy6"
      }
    },
    {
      "cell_type": "markdown",
      "source": [
        "## Train and Test Data Splitting"
      ],
      "metadata": {
        "id": "dcKFvKemN5tz"
      }
    },
    {
      "cell_type": "code",
      "source": [
        "from sklearn.model_selection  import train_test_split"
      ],
      "metadata": {
        "id": "PQa5wDKHNgJy"
      },
      "execution_count": null,
      "outputs": []
    },
    {
      "cell_type": "code",
      "source": [
        "x_train,x_test, y_train, y_test=train_test_split(x,y, test_size=0.2,random_state=1)"
      ],
      "metadata": {
        "id": "-9T3yCwtONT7"
      },
      "execution_count": null,
      "outputs": []
    },
    {
      "cell_type": "code",
      "source": [
        "x_train"
      ],
      "metadata": {
        "colab": {
          "base_uri": "https://localhost:8080/",
          "height": 424
        },
        "id": "PwgfucEKtWf6",
        "outputId": "15d3f846-2288-4757-aeb9-0e7b5cc33945"
      },
      "execution_count": null,
      "outputs": [
        {
          "output_type": "execute_result",
          "data": {
            "text/plain": [
              "      ID  Comp  Circ  D.Circ  Rad.Ra  Pr.Axis.Ra  Max.L.Ra  Scat.Ra  Elong  \\\n",
              "34    35   104    52      96     188          59         9      188     35   \n",
              "185  186    89    38      78     153          61         7      146     46   \n",
              "154  155    90    47      85     161          64        10      163     42   \n",
              "712  713    92    35      58     136          58         6      122     55   \n",
              "667  668    86    43      70     126          56         6      148     46   \n",
              "..   ...   ...   ...     ...     ...         ...       ...      ...    ...   \n",
              "645  646   104    53     108     206          61        11      217     31   \n",
              "715  716    93    43      76     149          57         7      149     44   \n",
              "72    73    79    47      74     141          61         7      153     43   \n",
              "235  236    92    46      79     176          64         8      162     41   \n",
              "37    38    97    47      81     183          64         8      168     39   \n",
              "\n",
              "     Pr.Axis.Rect  Max.L.Rect  Sc.Var.Maxis  Sc.Var.maxis  Ra.Gyr  Skew.Maxis  \\\n",
              "34             22         161           206           530     205          67   \n",
              "185            19         127           166           314     142          69   \n",
              "154            20         160           177           389     185          73   \n",
              "712            17         132           142           222     116          64   \n",
              "667            19         145           166           317     171          86   \n",
              "..            ...         ...           ...           ...     ...         ...   \n",
              "645            24         168           226           694     209          67   \n",
              "715            19         143           172           335     176          69   \n",
              "72             19         149           175           349     199          77   \n",
              "235            20         149           183           396     178          67   \n",
              "37             20         150           193           426     182          70   \n",
              "\n",
              "     Skew.maxis  Kurt.maxis  Kurt.Maxis  Holl.Ra  \n",
              "34           11           8         193      200  \n",
              "185           0           9         187      194  \n",
              "154           9           0         185      195  \n",
              "712           6          17         197      203  \n",
              "667           6           9         179      182  \n",
              "..          ...         ...         ...      ...  \n",
              "645           0           9         188      201  \n",
              "715          14           0         189      194  \n",
              "72            6          10         183      189  \n",
              "235           2          10         191      198  \n",
              "37           11           2         192      198  \n",
              "\n",
              "[575 rows x 19 columns]"
            ],
            "text/html": [
              "\n",
              "  <div id=\"df-9a743576-a050-4671-b8c5-2e471a774299\">\n",
              "    <div class=\"colab-df-container\">\n",
              "      <div>\n",
              "<style scoped>\n",
              "    .dataframe tbody tr th:only-of-type {\n",
              "        vertical-align: middle;\n",
              "    }\n",
              "\n",
              "    .dataframe tbody tr th {\n",
              "        vertical-align: top;\n",
              "    }\n",
              "\n",
              "    .dataframe thead th {\n",
              "        text-align: right;\n",
              "    }\n",
              "</style>\n",
              "<table border=\"1\" class=\"dataframe\">\n",
              "  <thead>\n",
              "    <tr style=\"text-align: right;\">\n",
              "      <th></th>\n",
              "      <th>ID</th>\n",
              "      <th>Comp</th>\n",
              "      <th>Circ</th>\n",
              "      <th>D.Circ</th>\n",
              "      <th>Rad.Ra</th>\n",
              "      <th>Pr.Axis.Ra</th>\n",
              "      <th>Max.L.Ra</th>\n",
              "      <th>Scat.Ra</th>\n",
              "      <th>Elong</th>\n",
              "      <th>Pr.Axis.Rect</th>\n",
              "      <th>Max.L.Rect</th>\n",
              "      <th>Sc.Var.Maxis</th>\n",
              "      <th>Sc.Var.maxis</th>\n",
              "      <th>Ra.Gyr</th>\n",
              "      <th>Skew.Maxis</th>\n",
              "      <th>Skew.maxis</th>\n",
              "      <th>Kurt.maxis</th>\n",
              "      <th>Kurt.Maxis</th>\n",
              "      <th>Holl.Ra</th>\n",
              "    </tr>\n",
              "  </thead>\n",
              "  <tbody>\n",
              "    <tr>\n",
              "      <th>34</th>\n",
              "      <td>35</td>\n",
              "      <td>104</td>\n",
              "      <td>52</td>\n",
              "      <td>96</td>\n",
              "      <td>188</td>\n",
              "      <td>59</td>\n",
              "      <td>9</td>\n",
              "      <td>188</td>\n",
              "      <td>35</td>\n",
              "      <td>22</td>\n",
              "      <td>161</td>\n",
              "      <td>206</td>\n",
              "      <td>530</td>\n",
              "      <td>205</td>\n",
              "      <td>67</td>\n",
              "      <td>11</td>\n",
              "      <td>8</td>\n",
              "      <td>193</td>\n",
              "      <td>200</td>\n",
              "    </tr>\n",
              "    <tr>\n",
              "      <th>185</th>\n",
              "      <td>186</td>\n",
              "      <td>89</td>\n",
              "      <td>38</td>\n",
              "      <td>78</td>\n",
              "      <td>153</td>\n",
              "      <td>61</td>\n",
              "      <td>7</td>\n",
              "      <td>146</td>\n",
              "      <td>46</td>\n",
              "      <td>19</td>\n",
              "      <td>127</td>\n",
              "      <td>166</td>\n",
              "      <td>314</td>\n",
              "      <td>142</td>\n",
              "      <td>69</td>\n",
              "      <td>0</td>\n",
              "      <td>9</td>\n",
              "      <td>187</td>\n",
              "      <td>194</td>\n",
              "    </tr>\n",
              "    <tr>\n",
              "      <th>154</th>\n",
              "      <td>155</td>\n",
              "      <td>90</td>\n",
              "      <td>47</td>\n",
              "      <td>85</td>\n",
              "      <td>161</td>\n",
              "      <td>64</td>\n",
              "      <td>10</td>\n",
              "      <td>163</td>\n",
              "      <td>42</td>\n",
              "      <td>20</td>\n",
              "      <td>160</td>\n",
              "      <td>177</td>\n",
              "      <td>389</td>\n",
              "      <td>185</td>\n",
              "      <td>73</td>\n",
              "      <td>9</td>\n",
              "      <td>0</td>\n",
              "      <td>185</td>\n",
              "      <td>195</td>\n",
              "    </tr>\n",
              "    <tr>\n",
              "      <th>712</th>\n",
              "      <td>713</td>\n",
              "      <td>92</td>\n",
              "      <td>35</td>\n",
              "      <td>58</td>\n",
              "      <td>136</td>\n",
              "      <td>58</td>\n",
              "      <td>6</td>\n",
              "      <td>122</td>\n",
              "      <td>55</td>\n",
              "      <td>17</td>\n",
              "      <td>132</td>\n",
              "      <td>142</td>\n",
              "      <td>222</td>\n",
              "      <td>116</td>\n",
              "      <td>64</td>\n",
              "      <td>6</td>\n",
              "      <td>17</td>\n",
              "      <td>197</td>\n",
              "      <td>203</td>\n",
              "    </tr>\n",
              "    <tr>\n",
              "      <th>667</th>\n",
              "      <td>668</td>\n",
              "      <td>86</td>\n",
              "      <td>43</td>\n",
              "      <td>70</td>\n",
              "      <td>126</td>\n",
              "      <td>56</td>\n",
              "      <td>6</td>\n",
              "      <td>148</td>\n",
              "      <td>46</td>\n",
              "      <td>19</td>\n",
              "      <td>145</td>\n",
              "      <td>166</td>\n",
              "      <td>317</td>\n",
              "      <td>171</td>\n",
              "      <td>86</td>\n",
              "      <td>6</td>\n",
              "      <td>9</td>\n",
              "      <td>179</td>\n",
              "      <td>182</td>\n",
              "    </tr>\n",
              "    <tr>\n",
              "      <th>...</th>\n",
              "      <td>...</td>\n",
              "      <td>...</td>\n",
              "      <td>...</td>\n",
              "      <td>...</td>\n",
              "      <td>...</td>\n",
              "      <td>...</td>\n",
              "      <td>...</td>\n",
              "      <td>...</td>\n",
              "      <td>...</td>\n",
              "      <td>...</td>\n",
              "      <td>...</td>\n",
              "      <td>...</td>\n",
              "      <td>...</td>\n",
              "      <td>...</td>\n",
              "      <td>...</td>\n",
              "      <td>...</td>\n",
              "      <td>...</td>\n",
              "      <td>...</td>\n",
              "      <td>...</td>\n",
              "    </tr>\n",
              "    <tr>\n",
              "      <th>645</th>\n",
              "      <td>646</td>\n",
              "      <td>104</td>\n",
              "      <td>53</td>\n",
              "      <td>108</td>\n",
              "      <td>206</td>\n",
              "      <td>61</td>\n",
              "      <td>11</td>\n",
              "      <td>217</td>\n",
              "      <td>31</td>\n",
              "      <td>24</td>\n",
              "      <td>168</td>\n",
              "      <td>226</td>\n",
              "      <td>694</td>\n",
              "      <td>209</td>\n",
              "      <td>67</td>\n",
              "      <td>0</td>\n",
              "      <td>9</td>\n",
              "      <td>188</td>\n",
              "      <td>201</td>\n",
              "    </tr>\n",
              "    <tr>\n",
              "      <th>715</th>\n",
              "      <td>716</td>\n",
              "      <td>93</td>\n",
              "      <td>43</td>\n",
              "      <td>76</td>\n",
              "      <td>149</td>\n",
              "      <td>57</td>\n",
              "      <td>7</td>\n",
              "      <td>149</td>\n",
              "      <td>44</td>\n",
              "      <td>19</td>\n",
              "      <td>143</td>\n",
              "      <td>172</td>\n",
              "      <td>335</td>\n",
              "      <td>176</td>\n",
              "      <td>69</td>\n",
              "      <td>14</td>\n",
              "      <td>0</td>\n",
              "      <td>189</td>\n",
              "      <td>194</td>\n",
              "    </tr>\n",
              "    <tr>\n",
              "      <th>72</th>\n",
              "      <td>73</td>\n",
              "      <td>79</td>\n",
              "      <td>47</td>\n",
              "      <td>74</td>\n",
              "      <td>141</td>\n",
              "      <td>61</td>\n",
              "      <td>7</td>\n",
              "      <td>153</td>\n",
              "      <td>43</td>\n",
              "      <td>19</td>\n",
              "      <td>149</td>\n",
              "      <td>175</td>\n",
              "      <td>349</td>\n",
              "      <td>199</td>\n",
              "      <td>77</td>\n",
              "      <td>6</td>\n",
              "      <td>10</td>\n",
              "      <td>183</td>\n",
              "      <td>189</td>\n",
              "    </tr>\n",
              "    <tr>\n",
              "      <th>235</th>\n",
              "      <td>236</td>\n",
              "      <td>92</td>\n",
              "      <td>46</td>\n",
              "      <td>79</td>\n",
              "      <td>176</td>\n",
              "      <td>64</td>\n",
              "      <td>8</td>\n",
              "      <td>162</td>\n",
              "      <td>41</td>\n",
              "      <td>20</td>\n",
              "      <td>149</td>\n",
              "      <td>183</td>\n",
              "      <td>396</td>\n",
              "      <td>178</td>\n",
              "      <td>67</td>\n",
              "      <td>2</td>\n",
              "      <td>10</td>\n",
              "      <td>191</td>\n",
              "      <td>198</td>\n",
              "    </tr>\n",
              "    <tr>\n",
              "      <th>37</th>\n",
              "      <td>38</td>\n",
              "      <td>97</td>\n",
              "      <td>47</td>\n",
              "      <td>81</td>\n",
              "      <td>183</td>\n",
              "      <td>64</td>\n",
              "      <td>8</td>\n",
              "      <td>168</td>\n",
              "      <td>39</td>\n",
              "      <td>20</td>\n",
              "      <td>150</td>\n",
              "      <td>193</td>\n",
              "      <td>426</td>\n",
              "      <td>182</td>\n",
              "      <td>70</td>\n",
              "      <td>11</td>\n",
              "      <td>2</td>\n",
              "      <td>192</td>\n",
              "      <td>198</td>\n",
              "    </tr>\n",
              "  </tbody>\n",
              "</table>\n",
              "<p>575 rows × 19 columns</p>\n",
              "</div>\n",
              "      <button class=\"colab-df-convert\" onclick=\"convertToInteractive('df-9a743576-a050-4671-b8c5-2e471a774299')\"\n",
              "              title=\"Convert this dataframe to an interactive table.\"\n",
              "              style=\"display:none;\">\n",
              "        \n",
              "  <svg xmlns=\"http://www.w3.org/2000/svg\" height=\"24px\"viewBox=\"0 0 24 24\"\n",
              "       width=\"24px\">\n",
              "    <path d=\"M0 0h24v24H0V0z\" fill=\"none\"/>\n",
              "    <path d=\"M18.56 5.44l.94 2.06.94-2.06 2.06-.94-2.06-.94-.94-2.06-.94 2.06-2.06.94zm-11 1L8.5 8.5l.94-2.06 2.06-.94-2.06-.94L8.5 2.5l-.94 2.06-2.06.94zm10 10l.94 2.06.94-2.06 2.06-.94-2.06-.94-.94-2.06-.94 2.06-2.06.94z\"/><path d=\"M17.41 7.96l-1.37-1.37c-.4-.4-.92-.59-1.43-.59-.52 0-1.04.2-1.43.59L10.3 9.45l-7.72 7.72c-.78.78-.78 2.05 0 2.83L4 21.41c.39.39.9.59 1.41.59.51 0 1.02-.2 1.41-.59l7.78-7.78 2.81-2.81c.8-.78.8-2.07 0-2.86zM5.41 20L4 18.59l7.72-7.72 1.47 1.35L5.41 20z\"/>\n",
              "  </svg>\n",
              "      </button>\n",
              "      \n",
              "  <style>\n",
              "    .colab-df-container {\n",
              "      display:flex;\n",
              "      flex-wrap:wrap;\n",
              "      gap: 12px;\n",
              "    }\n",
              "\n",
              "    .colab-df-convert {\n",
              "      background-color: #E8F0FE;\n",
              "      border: none;\n",
              "      border-radius: 50%;\n",
              "      cursor: pointer;\n",
              "      display: none;\n",
              "      fill: #1967D2;\n",
              "      height: 32px;\n",
              "      padding: 0 0 0 0;\n",
              "      width: 32px;\n",
              "    }\n",
              "\n",
              "    .colab-df-convert:hover {\n",
              "      background-color: #E2EBFA;\n",
              "      box-shadow: 0px 1px 2px rgba(60, 64, 67, 0.3), 0px 1px 3px 1px rgba(60, 64, 67, 0.15);\n",
              "      fill: #174EA6;\n",
              "    }\n",
              "\n",
              "    [theme=dark] .colab-df-convert {\n",
              "      background-color: #3B4455;\n",
              "      fill: #D2E3FC;\n",
              "    }\n",
              "\n",
              "    [theme=dark] .colab-df-convert:hover {\n",
              "      background-color: #434B5C;\n",
              "      box-shadow: 0px 1px 3px 1px rgba(0, 0, 0, 0.15);\n",
              "      filter: drop-shadow(0px 1px 2px rgba(0, 0, 0, 0.3));\n",
              "      fill: #FFFFFF;\n",
              "    }\n",
              "  </style>\n",
              "\n",
              "      <script>\n",
              "        const buttonEl =\n",
              "          document.querySelector('#df-9a743576-a050-4671-b8c5-2e471a774299 button.colab-df-convert');\n",
              "        buttonEl.style.display =\n",
              "          google.colab.kernel.accessAllowed ? 'block' : 'none';\n",
              "\n",
              "        async function convertToInteractive(key) {\n",
              "          const element = document.querySelector('#df-9a743576-a050-4671-b8c5-2e471a774299');\n",
              "          const dataTable =\n",
              "            await google.colab.kernel.invokeFunction('convertToInteractive',\n",
              "                                                     [key], {});\n",
              "          if (!dataTable) return;\n",
              "\n",
              "          const docLinkHtml = 'Like what you see? Visit the ' +\n",
              "            '<a target=\"_blank\" href=https://colab.research.google.com/notebooks/data_table.ipynb>data table notebook</a>'\n",
              "            + ' to learn more about interactive tables.';\n",
              "          element.innerHTML = '';\n",
              "          dataTable['output_type'] = 'display_data';\n",
              "          await google.colab.output.renderOutput(dataTable, element);\n",
              "          const docLink = document.createElement('div');\n",
              "          docLink.innerHTML = docLinkHtml;\n",
              "          element.appendChild(docLink);\n",
              "        }\n",
              "      </script>\n",
              "    </div>\n",
              "  </div>\n",
              "  "
            ]
          },
          "metadata": {},
          "execution_count": 35
        }
      ]
    },
    {
      "cell_type": "code",
      "source": [
        "x_test"
      ],
      "metadata": {
        "colab": {
          "base_uri": "https://localhost:8080/",
          "height": 424
        },
        "id": "TEyIbsbJtW2k",
        "outputId": "1a4af824-d5e4-40e8-ee0f-1479b830f160"
      },
      "execution_count": null,
      "outputs": [
        {
          "output_type": "execute_result",
          "data": {
            "text/plain": [
              "      ID  Comp  Circ  D.Circ  Rad.Ra  Pr.Axis.Ra  Max.L.Ra  Scat.Ra  Elong  \\\n",
              "59    60    93    36      63     139          57         8      132     50   \n",
              "60    61   111    50     103     199          60        11      211     31   \n",
              "214  215    83    44      68     144          61         8      147     45   \n",
              "636  637    94    38      88     179          60         7      170     39   \n",
              "8      9   107    55      98     199          59         7      240     27   \n",
              "..   ...   ...   ...     ...     ...         ...       ...      ...    ...   \n",
              "139  140   109    55     102     169          51         6      241     27   \n",
              "603  604    93    47      83     165          60         7      167     40   \n",
              "118  119    95    43      76     142          57        10      151     44   \n",
              "274  275   108    54     105     203          62        11      202     33   \n",
              "411  412    85    43      66     123          56         6      148     46   \n",
              "\n",
              "     Pr.Axis.Rect  Max.L.Rect  Sc.Var.Maxis  Sc.Var.maxis  Ra.Gyr  Skew.Maxis  \\\n",
              "59             18         136           158           260     121          67   \n",
              "60             24         156           223           663     188          68   \n",
              "214            19         143           170           325     180          74   \n",
              "636            21         131           188           435     144          66   \n",
              "8              26         168           258           866     245          80   \n",
              "..            ...         ...           ...           ...     ...         ...   \n",
              "139            26         165           265           870     247          84   \n",
              "603            20         147           197           417     201          73   \n",
              "118            19         149           173           339     159          71   \n",
              "274            23         164           216           608     235          68   \n",
              "411            19         145           166           319     171          85   \n",
              "\n",
              "     Skew.maxis  Kurt.maxis  Kurt.Maxis  Holl.Ra  \n",
              "59            3          27         193      201  \n",
              "60            9           9         190      200  \n",
              "214           1           1         185      191  \n",
              "636           2          28         195      204  \n",
              "8             3           1         186      184  \n",
              "..          ...         ...         ...      ...  \n",
              "139          10          11         184      183  \n",
              "603          12           4         187      192  \n",
              "118           2          23         187      200  \n",
              "274          12           3         190      200  \n",
              "411           6          11         179      182  \n",
              "\n",
              "[144 rows x 19 columns]"
            ],
            "text/html": [
              "\n",
              "  <div id=\"df-b912a1af-f456-44b4-acdf-c539485a5403\">\n",
              "    <div class=\"colab-df-container\">\n",
              "      <div>\n",
              "<style scoped>\n",
              "    .dataframe tbody tr th:only-of-type {\n",
              "        vertical-align: middle;\n",
              "    }\n",
              "\n",
              "    .dataframe tbody tr th {\n",
              "        vertical-align: top;\n",
              "    }\n",
              "\n",
              "    .dataframe thead th {\n",
              "        text-align: right;\n",
              "    }\n",
              "</style>\n",
              "<table border=\"1\" class=\"dataframe\">\n",
              "  <thead>\n",
              "    <tr style=\"text-align: right;\">\n",
              "      <th></th>\n",
              "      <th>ID</th>\n",
              "      <th>Comp</th>\n",
              "      <th>Circ</th>\n",
              "      <th>D.Circ</th>\n",
              "      <th>Rad.Ra</th>\n",
              "      <th>Pr.Axis.Ra</th>\n",
              "      <th>Max.L.Ra</th>\n",
              "      <th>Scat.Ra</th>\n",
              "      <th>Elong</th>\n",
              "      <th>Pr.Axis.Rect</th>\n",
              "      <th>Max.L.Rect</th>\n",
              "      <th>Sc.Var.Maxis</th>\n",
              "      <th>Sc.Var.maxis</th>\n",
              "      <th>Ra.Gyr</th>\n",
              "      <th>Skew.Maxis</th>\n",
              "      <th>Skew.maxis</th>\n",
              "      <th>Kurt.maxis</th>\n",
              "      <th>Kurt.Maxis</th>\n",
              "      <th>Holl.Ra</th>\n",
              "    </tr>\n",
              "  </thead>\n",
              "  <tbody>\n",
              "    <tr>\n",
              "      <th>59</th>\n",
              "      <td>60</td>\n",
              "      <td>93</td>\n",
              "      <td>36</td>\n",
              "      <td>63</td>\n",
              "      <td>139</td>\n",
              "      <td>57</td>\n",
              "      <td>8</td>\n",
              "      <td>132</td>\n",
              "      <td>50</td>\n",
              "      <td>18</td>\n",
              "      <td>136</td>\n",
              "      <td>158</td>\n",
              "      <td>260</td>\n",
              "      <td>121</td>\n",
              "      <td>67</td>\n",
              "      <td>3</td>\n",
              "      <td>27</td>\n",
              "      <td>193</td>\n",
              "      <td>201</td>\n",
              "    </tr>\n",
              "    <tr>\n",
              "      <th>60</th>\n",
              "      <td>61</td>\n",
              "      <td>111</td>\n",
              "      <td>50</td>\n",
              "      <td>103</td>\n",
              "      <td>199</td>\n",
              "      <td>60</td>\n",
              "      <td>11</td>\n",
              "      <td>211</td>\n",
              "      <td>31</td>\n",
              "      <td>24</td>\n",
              "      <td>156</td>\n",
              "      <td>223</td>\n",
              "      <td>663</td>\n",
              "      <td>188</td>\n",
              "      <td>68</td>\n",
              "      <td>9</td>\n",
              "      <td>9</td>\n",
              "      <td>190</td>\n",
              "      <td>200</td>\n",
              "    </tr>\n",
              "    <tr>\n",
              "      <th>214</th>\n",
              "      <td>215</td>\n",
              "      <td>83</td>\n",
              "      <td>44</td>\n",
              "      <td>68</td>\n",
              "      <td>144</td>\n",
              "      <td>61</td>\n",
              "      <td>8</td>\n",
              "      <td>147</td>\n",
              "      <td>45</td>\n",
              "      <td>19</td>\n",
              "      <td>143</td>\n",
              "      <td>170</td>\n",
              "      <td>325</td>\n",
              "      <td>180</td>\n",
              "      <td>74</td>\n",
              "      <td>1</td>\n",
              "      <td>1</td>\n",
              "      <td>185</td>\n",
              "      <td>191</td>\n",
              "    </tr>\n",
              "    <tr>\n",
              "      <th>636</th>\n",
              "      <td>637</td>\n",
              "      <td>94</td>\n",
              "      <td>38</td>\n",
              "      <td>88</td>\n",
              "      <td>179</td>\n",
              "      <td>60</td>\n",
              "      <td>7</td>\n",
              "      <td>170</td>\n",
              "      <td>39</td>\n",
              "      <td>21</td>\n",
              "      <td>131</td>\n",
              "      <td>188</td>\n",
              "      <td>435</td>\n",
              "      <td>144</td>\n",
              "      <td>66</td>\n",
              "      <td>2</td>\n",
              "      <td>28</td>\n",
              "      <td>195</td>\n",
              "      <td>204</td>\n",
              "    </tr>\n",
              "    <tr>\n",
              "      <th>8</th>\n",
              "      <td>9</td>\n",
              "      <td>107</td>\n",
              "      <td>55</td>\n",
              "      <td>98</td>\n",
              "      <td>199</td>\n",
              "      <td>59</td>\n",
              "      <td>7</td>\n",
              "      <td>240</td>\n",
              "      <td>27</td>\n",
              "      <td>26</td>\n",
              "      <td>168</td>\n",
              "      <td>258</td>\n",
              "      <td>866</td>\n",
              "      <td>245</td>\n",
              "      <td>80</td>\n",
              "      <td>3</td>\n",
              "      <td>1</td>\n",
              "      <td>186</td>\n",
              "      <td>184</td>\n",
              "    </tr>\n",
              "    <tr>\n",
              "      <th>...</th>\n",
              "      <td>...</td>\n",
              "      <td>...</td>\n",
              "      <td>...</td>\n",
              "      <td>...</td>\n",
              "      <td>...</td>\n",
              "      <td>...</td>\n",
              "      <td>...</td>\n",
              "      <td>...</td>\n",
              "      <td>...</td>\n",
              "      <td>...</td>\n",
              "      <td>...</td>\n",
              "      <td>...</td>\n",
              "      <td>...</td>\n",
              "      <td>...</td>\n",
              "      <td>...</td>\n",
              "      <td>...</td>\n",
              "      <td>...</td>\n",
              "      <td>...</td>\n",
              "      <td>...</td>\n",
              "    </tr>\n",
              "    <tr>\n",
              "      <th>139</th>\n",
              "      <td>140</td>\n",
              "      <td>109</td>\n",
              "      <td>55</td>\n",
              "      <td>102</td>\n",
              "      <td>169</td>\n",
              "      <td>51</td>\n",
              "      <td>6</td>\n",
              "      <td>241</td>\n",
              "      <td>27</td>\n",
              "      <td>26</td>\n",
              "      <td>165</td>\n",
              "      <td>265</td>\n",
              "      <td>870</td>\n",
              "      <td>247</td>\n",
              "      <td>84</td>\n",
              "      <td>10</td>\n",
              "      <td>11</td>\n",
              "      <td>184</td>\n",
              "      <td>183</td>\n",
              "    </tr>\n",
              "    <tr>\n",
              "      <th>603</th>\n",
              "      <td>604</td>\n",
              "      <td>93</td>\n",
              "      <td>47</td>\n",
              "      <td>83</td>\n",
              "      <td>165</td>\n",
              "      <td>60</td>\n",
              "      <td>7</td>\n",
              "      <td>167</td>\n",
              "      <td>40</td>\n",
              "      <td>20</td>\n",
              "      <td>147</td>\n",
              "      <td>197</td>\n",
              "      <td>417</td>\n",
              "      <td>201</td>\n",
              "      <td>73</td>\n",
              "      <td>12</td>\n",
              "      <td>4</td>\n",
              "      <td>187</td>\n",
              "      <td>192</td>\n",
              "    </tr>\n",
              "    <tr>\n",
              "      <th>118</th>\n",
              "      <td>119</td>\n",
              "      <td>95</td>\n",
              "      <td>43</td>\n",
              "      <td>76</td>\n",
              "      <td>142</td>\n",
              "      <td>57</td>\n",
              "      <td>10</td>\n",
              "      <td>151</td>\n",
              "      <td>44</td>\n",
              "      <td>19</td>\n",
              "      <td>149</td>\n",
              "      <td>173</td>\n",
              "      <td>339</td>\n",
              "      <td>159</td>\n",
              "      <td>71</td>\n",
              "      <td>2</td>\n",
              "      <td>23</td>\n",
              "      <td>187</td>\n",
              "      <td>200</td>\n",
              "    </tr>\n",
              "    <tr>\n",
              "      <th>274</th>\n",
              "      <td>275</td>\n",
              "      <td>108</td>\n",
              "      <td>54</td>\n",
              "      <td>105</td>\n",
              "      <td>203</td>\n",
              "      <td>62</td>\n",
              "      <td>11</td>\n",
              "      <td>202</td>\n",
              "      <td>33</td>\n",
              "      <td>23</td>\n",
              "      <td>164</td>\n",
              "      <td>216</td>\n",
              "      <td>608</td>\n",
              "      <td>235</td>\n",
              "      <td>68</td>\n",
              "      <td>12</td>\n",
              "      <td>3</td>\n",
              "      <td>190</td>\n",
              "      <td>200</td>\n",
              "    </tr>\n",
              "    <tr>\n",
              "      <th>411</th>\n",
              "      <td>412</td>\n",
              "      <td>85</td>\n",
              "      <td>43</td>\n",
              "      <td>66</td>\n",
              "      <td>123</td>\n",
              "      <td>56</td>\n",
              "      <td>6</td>\n",
              "      <td>148</td>\n",
              "      <td>46</td>\n",
              "      <td>19</td>\n",
              "      <td>145</td>\n",
              "      <td>166</td>\n",
              "      <td>319</td>\n",
              "      <td>171</td>\n",
              "      <td>85</td>\n",
              "      <td>6</td>\n",
              "      <td>11</td>\n",
              "      <td>179</td>\n",
              "      <td>182</td>\n",
              "    </tr>\n",
              "  </tbody>\n",
              "</table>\n",
              "<p>144 rows × 19 columns</p>\n",
              "</div>\n",
              "      <button class=\"colab-df-convert\" onclick=\"convertToInteractive('df-b912a1af-f456-44b4-acdf-c539485a5403')\"\n",
              "              title=\"Convert this dataframe to an interactive table.\"\n",
              "              style=\"display:none;\">\n",
              "        \n",
              "  <svg xmlns=\"http://www.w3.org/2000/svg\" height=\"24px\"viewBox=\"0 0 24 24\"\n",
              "       width=\"24px\">\n",
              "    <path d=\"M0 0h24v24H0V0z\" fill=\"none\"/>\n",
              "    <path d=\"M18.56 5.44l.94 2.06.94-2.06 2.06-.94-2.06-.94-.94-2.06-.94 2.06-2.06.94zm-11 1L8.5 8.5l.94-2.06 2.06-.94-2.06-.94L8.5 2.5l-.94 2.06-2.06.94zm10 10l.94 2.06.94-2.06 2.06-.94-2.06-.94-.94-2.06-.94 2.06-2.06.94z\"/><path d=\"M17.41 7.96l-1.37-1.37c-.4-.4-.92-.59-1.43-.59-.52 0-1.04.2-1.43.59L10.3 9.45l-7.72 7.72c-.78.78-.78 2.05 0 2.83L4 21.41c.39.39.9.59 1.41.59.51 0 1.02-.2 1.41-.59l7.78-7.78 2.81-2.81c.8-.78.8-2.07 0-2.86zM5.41 20L4 18.59l7.72-7.72 1.47 1.35L5.41 20z\"/>\n",
              "  </svg>\n",
              "      </button>\n",
              "      \n",
              "  <style>\n",
              "    .colab-df-container {\n",
              "      display:flex;\n",
              "      flex-wrap:wrap;\n",
              "      gap: 12px;\n",
              "    }\n",
              "\n",
              "    .colab-df-convert {\n",
              "      background-color: #E8F0FE;\n",
              "      border: none;\n",
              "      border-radius: 50%;\n",
              "      cursor: pointer;\n",
              "      display: none;\n",
              "      fill: #1967D2;\n",
              "      height: 32px;\n",
              "      padding: 0 0 0 0;\n",
              "      width: 32px;\n",
              "    }\n",
              "\n",
              "    .colab-df-convert:hover {\n",
              "      background-color: #E2EBFA;\n",
              "      box-shadow: 0px 1px 2px rgba(60, 64, 67, 0.3), 0px 1px 3px 1px rgba(60, 64, 67, 0.15);\n",
              "      fill: #174EA6;\n",
              "    }\n",
              "\n",
              "    [theme=dark] .colab-df-convert {\n",
              "      background-color: #3B4455;\n",
              "      fill: #D2E3FC;\n",
              "    }\n",
              "\n",
              "    [theme=dark] .colab-df-convert:hover {\n",
              "      background-color: #434B5C;\n",
              "      box-shadow: 0px 1px 3px 1px rgba(0, 0, 0, 0.15);\n",
              "      filter: drop-shadow(0px 1px 2px rgba(0, 0, 0, 0.3));\n",
              "      fill: #FFFFFF;\n",
              "    }\n",
              "  </style>\n",
              "\n",
              "      <script>\n",
              "        const buttonEl =\n",
              "          document.querySelector('#df-b912a1af-f456-44b4-acdf-c539485a5403 button.colab-df-convert');\n",
              "        buttonEl.style.display =\n",
              "          google.colab.kernel.accessAllowed ? 'block' : 'none';\n",
              "\n",
              "        async function convertToInteractive(key) {\n",
              "          const element = document.querySelector('#df-b912a1af-f456-44b4-acdf-c539485a5403');\n",
              "          const dataTable =\n",
              "            await google.colab.kernel.invokeFunction('convertToInteractive',\n",
              "                                                     [key], {});\n",
              "          if (!dataTable) return;\n",
              "\n",
              "          const docLinkHtml = 'Like what you see? Visit the ' +\n",
              "            '<a target=\"_blank\" href=https://colab.research.google.com/notebooks/data_table.ipynb>data table notebook</a>'\n",
              "            + ' to learn more about interactive tables.';\n",
              "          element.innerHTML = '';\n",
              "          dataTable['output_type'] = 'display_data';\n",
              "          await google.colab.output.renderOutput(dataTable, element);\n",
              "          const docLink = document.createElement('div');\n",
              "          docLink.innerHTML = docLinkHtml;\n",
              "          element.appendChild(docLink);\n",
              "        }\n",
              "      </script>\n",
              "    </div>\n",
              "  </div>\n",
              "  "
            ]
          },
          "metadata": {},
          "execution_count": 36
        }
      ]
    },
    {
      "cell_type": "code",
      "source": [
        "y_train"
      ],
      "metadata": {
        "colab": {
          "base_uri": "https://localhost:8080/"
        },
        "id": "WklyWQ2KtXHZ",
        "outputId": "56531ef7-0502-447c-ef38-bd8f5707791e"
      },
      "execution_count": null,
      "outputs": [
        {
          "output_type": "execute_result",
          "data": {
            "text/plain": [
              "34     1\n",
              "185    1\n",
              "154    3\n",
              "712    3\n",
              "667    0\n",
              "      ..\n",
              "645    2\n",
              "715    2\n",
              "72     0\n",
              "235    1\n",
              "37     1\n",
              "Name: Class, Length: 575, dtype: int64"
            ]
          },
          "metadata": {},
          "execution_count": 37
        }
      ]
    },
    {
      "cell_type": "code",
      "source": [
        "y_test"
      ],
      "metadata": {
        "colab": {
          "base_uri": "https://localhost:8080/"
        },
        "id": "n-vgYkhltXYB",
        "outputId": "56bfd5d9-fae7-4dcf-b1a4-dc9484560e09"
      },
      "execution_count": null,
      "outputs": [
        {
          "output_type": "execute_result",
          "data": {
            "text/plain": [
              "59     3\n",
              "60     2\n",
              "214    0\n",
              "636    2\n",
              "8      0\n",
              "      ..\n",
              "139    0\n",
              "603    1\n",
              "118    3\n",
              "274    2\n",
              "411    0\n",
              "Name: Class, Length: 144, dtype: int64"
            ]
          },
          "metadata": {},
          "execution_count": 38
        }
      ]
    },
    {
      "cell_type": "code",
      "source": [
        "x_train.head()"
      ],
      "metadata": {
        "colab": {
          "base_uri": "https://localhost:8080/",
          "height": 206
        },
        "id": "omO1Kth6P1HT",
        "outputId": "129ec63e-11b5-4afd-98cb-7cc07fa91c21"
      },
      "execution_count": null,
      "outputs": [
        {
          "output_type": "execute_result",
          "data": {
            "text/plain": [
              "      ID  Comp  Circ  D.Circ  Rad.Ra  Pr.Axis.Ra  Max.L.Ra  Scat.Ra  Elong  \\\n",
              "34    35   104    52      96     188          59         9      188     35   \n",
              "185  186    89    38      78     153          61         7      146     46   \n",
              "154  155    90    47      85     161          64        10      163     42   \n",
              "712  713    92    35      58     136          58         6      122     55   \n",
              "667  668    86    43      70     126          56         6      148     46   \n",
              "\n",
              "     Pr.Axis.Rect  Max.L.Rect  Sc.Var.Maxis  Sc.Var.maxis  Ra.Gyr  Skew.Maxis  \\\n",
              "34             22         161           206           530     205          67   \n",
              "185            19         127           166           314     142          69   \n",
              "154            20         160           177           389     185          73   \n",
              "712            17         132           142           222     116          64   \n",
              "667            19         145           166           317     171          86   \n",
              "\n",
              "     Skew.maxis  Kurt.maxis  Kurt.Maxis  Holl.Ra  \n",
              "34           11           8         193      200  \n",
              "185           0           9         187      194  \n",
              "154           9           0         185      195  \n",
              "712           6          17         197      203  \n",
              "667           6           9         179      182  "
            ],
            "text/html": [
              "\n",
              "  <div id=\"df-51ca1c94-7a57-4b57-a6c0-a96a1a3a1db2\">\n",
              "    <div class=\"colab-df-container\">\n",
              "      <div>\n",
              "<style scoped>\n",
              "    .dataframe tbody tr th:only-of-type {\n",
              "        vertical-align: middle;\n",
              "    }\n",
              "\n",
              "    .dataframe tbody tr th {\n",
              "        vertical-align: top;\n",
              "    }\n",
              "\n",
              "    .dataframe thead th {\n",
              "        text-align: right;\n",
              "    }\n",
              "</style>\n",
              "<table border=\"1\" class=\"dataframe\">\n",
              "  <thead>\n",
              "    <tr style=\"text-align: right;\">\n",
              "      <th></th>\n",
              "      <th>ID</th>\n",
              "      <th>Comp</th>\n",
              "      <th>Circ</th>\n",
              "      <th>D.Circ</th>\n",
              "      <th>Rad.Ra</th>\n",
              "      <th>Pr.Axis.Ra</th>\n",
              "      <th>Max.L.Ra</th>\n",
              "      <th>Scat.Ra</th>\n",
              "      <th>Elong</th>\n",
              "      <th>Pr.Axis.Rect</th>\n",
              "      <th>Max.L.Rect</th>\n",
              "      <th>Sc.Var.Maxis</th>\n",
              "      <th>Sc.Var.maxis</th>\n",
              "      <th>Ra.Gyr</th>\n",
              "      <th>Skew.Maxis</th>\n",
              "      <th>Skew.maxis</th>\n",
              "      <th>Kurt.maxis</th>\n",
              "      <th>Kurt.Maxis</th>\n",
              "      <th>Holl.Ra</th>\n",
              "    </tr>\n",
              "  </thead>\n",
              "  <tbody>\n",
              "    <tr>\n",
              "      <th>34</th>\n",
              "      <td>35</td>\n",
              "      <td>104</td>\n",
              "      <td>52</td>\n",
              "      <td>96</td>\n",
              "      <td>188</td>\n",
              "      <td>59</td>\n",
              "      <td>9</td>\n",
              "      <td>188</td>\n",
              "      <td>35</td>\n",
              "      <td>22</td>\n",
              "      <td>161</td>\n",
              "      <td>206</td>\n",
              "      <td>530</td>\n",
              "      <td>205</td>\n",
              "      <td>67</td>\n",
              "      <td>11</td>\n",
              "      <td>8</td>\n",
              "      <td>193</td>\n",
              "      <td>200</td>\n",
              "    </tr>\n",
              "    <tr>\n",
              "      <th>185</th>\n",
              "      <td>186</td>\n",
              "      <td>89</td>\n",
              "      <td>38</td>\n",
              "      <td>78</td>\n",
              "      <td>153</td>\n",
              "      <td>61</td>\n",
              "      <td>7</td>\n",
              "      <td>146</td>\n",
              "      <td>46</td>\n",
              "      <td>19</td>\n",
              "      <td>127</td>\n",
              "      <td>166</td>\n",
              "      <td>314</td>\n",
              "      <td>142</td>\n",
              "      <td>69</td>\n",
              "      <td>0</td>\n",
              "      <td>9</td>\n",
              "      <td>187</td>\n",
              "      <td>194</td>\n",
              "    </tr>\n",
              "    <tr>\n",
              "      <th>154</th>\n",
              "      <td>155</td>\n",
              "      <td>90</td>\n",
              "      <td>47</td>\n",
              "      <td>85</td>\n",
              "      <td>161</td>\n",
              "      <td>64</td>\n",
              "      <td>10</td>\n",
              "      <td>163</td>\n",
              "      <td>42</td>\n",
              "      <td>20</td>\n",
              "      <td>160</td>\n",
              "      <td>177</td>\n",
              "      <td>389</td>\n",
              "      <td>185</td>\n",
              "      <td>73</td>\n",
              "      <td>9</td>\n",
              "      <td>0</td>\n",
              "      <td>185</td>\n",
              "      <td>195</td>\n",
              "    </tr>\n",
              "    <tr>\n",
              "      <th>712</th>\n",
              "      <td>713</td>\n",
              "      <td>92</td>\n",
              "      <td>35</td>\n",
              "      <td>58</td>\n",
              "      <td>136</td>\n",
              "      <td>58</td>\n",
              "      <td>6</td>\n",
              "      <td>122</td>\n",
              "      <td>55</td>\n",
              "      <td>17</td>\n",
              "      <td>132</td>\n",
              "      <td>142</td>\n",
              "      <td>222</td>\n",
              "      <td>116</td>\n",
              "      <td>64</td>\n",
              "      <td>6</td>\n",
              "      <td>17</td>\n",
              "      <td>197</td>\n",
              "      <td>203</td>\n",
              "    </tr>\n",
              "    <tr>\n",
              "      <th>667</th>\n",
              "      <td>668</td>\n",
              "      <td>86</td>\n",
              "      <td>43</td>\n",
              "      <td>70</td>\n",
              "      <td>126</td>\n",
              "      <td>56</td>\n",
              "      <td>6</td>\n",
              "      <td>148</td>\n",
              "      <td>46</td>\n",
              "      <td>19</td>\n",
              "      <td>145</td>\n",
              "      <td>166</td>\n",
              "      <td>317</td>\n",
              "      <td>171</td>\n",
              "      <td>86</td>\n",
              "      <td>6</td>\n",
              "      <td>9</td>\n",
              "      <td>179</td>\n",
              "      <td>182</td>\n",
              "    </tr>\n",
              "  </tbody>\n",
              "</table>\n",
              "</div>\n",
              "      <button class=\"colab-df-convert\" onclick=\"convertToInteractive('df-51ca1c94-7a57-4b57-a6c0-a96a1a3a1db2')\"\n",
              "              title=\"Convert this dataframe to an interactive table.\"\n",
              "              style=\"display:none;\">\n",
              "        \n",
              "  <svg xmlns=\"http://www.w3.org/2000/svg\" height=\"24px\"viewBox=\"0 0 24 24\"\n",
              "       width=\"24px\">\n",
              "    <path d=\"M0 0h24v24H0V0z\" fill=\"none\"/>\n",
              "    <path d=\"M18.56 5.44l.94 2.06.94-2.06 2.06-.94-2.06-.94-.94-2.06-.94 2.06-2.06.94zm-11 1L8.5 8.5l.94-2.06 2.06-.94-2.06-.94L8.5 2.5l-.94 2.06-2.06.94zm10 10l.94 2.06.94-2.06 2.06-.94-2.06-.94-.94-2.06-.94 2.06-2.06.94z\"/><path d=\"M17.41 7.96l-1.37-1.37c-.4-.4-.92-.59-1.43-.59-.52 0-1.04.2-1.43.59L10.3 9.45l-7.72 7.72c-.78.78-.78 2.05 0 2.83L4 21.41c.39.39.9.59 1.41.59.51 0 1.02-.2 1.41-.59l7.78-7.78 2.81-2.81c.8-.78.8-2.07 0-2.86zM5.41 20L4 18.59l7.72-7.72 1.47 1.35L5.41 20z\"/>\n",
              "  </svg>\n",
              "      </button>\n",
              "      \n",
              "  <style>\n",
              "    .colab-df-container {\n",
              "      display:flex;\n",
              "      flex-wrap:wrap;\n",
              "      gap: 12px;\n",
              "    }\n",
              "\n",
              "    .colab-df-convert {\n",
              "      background-color: #E8F0FE;\n",
              "      border: none;\n",
              "      border-radius: 50%;\n",
              "      cursor: pointer;\n",
              "      display: none;\n",
              "      fill: #1967D2;\n",
              "      height: 32px;\n",
              "      padding: 0 0 0 0;\n",
              "      width: 32px;\n",
              "    }\n",
              "\n",
              "    .colab-df-convert:hover {\n",
              "      background-color: #E2EBFA;\n",
              "      box-shadow: 0px 1px 2px rgba(60, 64, 67, 0.3), 0px 1px 3px 1px rgba(60, 64, 67, 0.15);\n",
              "      fill: #174EA6;\n",
              "    }\n",
              "\n",
              "    [theme=dark] .colab-df-convert {\n",
              "      background-color: #3B4455;\n",
              "      fill: #D2E3FC;\n",
              "    }\n",
              "\n",
              "    [theme=dark] .colab-df-convert:hover {\n",
              "      background-color: #434B5C;\n",
              "      box-shadow: 0px 1px 3px 1px rgba(0, 0, 0, 0.15);\n",
              "      filter: drop-shadow(0px 1px 2px rgba(0, 0, 0, 0.3));\n",
              "      fill: #FFFFFF;\n",
              "    }\n",
              "  </style>\n",
              "\n",
              "      <script>\n",
              "        const buttonEl =\n",
              "          document.querySelector('#df-51ca1c94-7a57-4b57-a6c0-a96a1a3a1db2 button.colab-df-convert');\n",
              "        buttonEl.style.display =\n",
              "          google.colab.kernel.accessAllowed ? 'block' : 'none';\n",
              "\n",
              "        async function convertToInteractive(key) {\n",
              "          const element = document.querySelector('#df-51ca1c94-7a57-4b57-a6c0-a96a1a3a1db2');\n",
              "          const dataTable =\n",
              "            await google.colab.kernel.invokeFunction('convertToInteractive',\n",
              "                                                     [key], {});\n",
              "          if (!dataTable) return;\n",
              "\n",
              "          const docLinkHtml = 'Like what you see? Visit the ' +\n",
              "            '<a target=\"_blank\" href=https://colab.research.google.com/notebooks/data_table.ipynb>data table notebook</a>'\n",
              "            + ' to learn more about interactive tables.';\n",
              "          element.innerHTML = '';\n",
              "          dataTable['output_type'] = 'display_data';\n",
              "          await google.colab.output.renderOutput(dataTable, element);\n",
              "          const docLink = document.createElement('div');\n",
              "          docLink.innerHTML = docLinkHtml;\n",
              "          element.appendChild(docLink);\n",
              "        }\n",
              "      </script>\n",
              "    </div>\n",
              "  </div>\n",
              "  "
            ]
          },
          "metadata": {},
          "execution_count": 39
        }
      ]
    },
    {
      "cell_type": "markdown",
      "source": [
        "Datas are splitted into train and test data."
      ],
      "metadata": {
        "id": "BCwu4v_Qbptl"
      }
    },
    {
      "cell_type": "markdown",
      "source": [
        "##Scalling the features "
      ],
      "metadata": {
        "id": "rXa-HBRrb1TN"
      }
    },
    {
      "cell_type": "markdown",
      "source": [
        "Checking the scaling "
      ],
      "metadata": {
        "id": "ZGZRINpfb_i9"
      }
    },
    {
      "cell_type": "code",
      "source": [
        "import seaborn as sns "
      ],
      "metadata": {
        "id": "50gFsxSWbzW8"
      },
      "execution_count": null,
      "outputs": []
    },
    {
      "cell_type": "code",
      "source": [
        "data.describe()"
      ],
      "metadata": {
        "colab": {
          "base_uri": "https://localhost:8080/",
          "height": 364
        },
        "id": "7_tyADwhcJ0P",
        "outputId": "ebee1b31-d49e-4e9e-f77c-9c83d1e0d307"
      },
      "execution_count": null,
      "outputs": [
        {
          "output_type": "execute_result",
          "data": {
            "text/plain": [
              "               ID        Comp        Circ      D.Circ      Rad.Ra  Pr.Axis.Ra  \\\n",
              "count  719.000000  719.000000  719.000000  719.000000  719.000000  719.000000   \n",
              "mean   360.000000   93.435327   44.851182   81.723227  168.579972   61.847010   \n",
              "std    207.701709    8.111406    6.150286   15.528208   33.809172    8.259136   \n",
              "min      1.000000   73.000000   33.000000   40.000000  105.000000   47.000000   \n",
              "25%    180.500000   87.000000   40.000000   70.000000  141.000000   57.000000   \n",
              "50%    360.000000   93.000000   44.000000   79.000000  166.000000   61.000000   \n",
              "75%    539.500000   99.000000   49.000000   96.000000  194.500000   65.000000   \n",
              "max    719.000000  119.000000   59.000000  110.000000  333.000000  138.000000   \n",
              "\n",
              "         Max.L.Ra     Scat.Ra       Elong  Pr.Axis.Rect  Max.L.Rect  \\\n",
              "count  719.000000  719.000000  719.000000    719.000000  719.000000   \n",
              "mean     8.625869  168.137691   41.075104     20.531293  148.030598   \n",
              "std      4.916908   32.937591    7.764459      2.560969   14.560092   \n",
              "min      2.000000  112.000000   26.000000     17.000000  118.000000   \n",
              "25%      6.000000  146.000000   33.000000     19.000000  137.000000   \n",
              "50%      8.000000  157.000000   43.000000     20.000000  146.000000   \n",
              "75%     10.000000  197.500000   46.000000     23.000000  159.000000   \n",
              "max     55.000000  265.000000   61.000000     29.000000  188.000000   \n",
              "\n",
              "       Sc.Var.Maxis  Sc.Var.maxis      Ra.Gyr  Skew.Maxis  Skew.maxis  \\\n",
              "count    719.000000    719.000000  719.000000  719.000000  719.000000   \n",
              "mean     188.168289    436.215577  174.726008   72.682893    6.343533   \n",
              "std       31.235395    174.964977   32.149568    7.542055    4.856169   \n",
              "min      130.000000    184.000000  109.000000   59.000000    0.000000   \n",
              "25%      167.000000    317.000000  149.000000   68.000000    2.000000   \n",
              "50%      178.000000    362.000000  174.000000   72.000000    6.000000   \n",
              "75%      216.000000    584.500000  198.000000   76.000000    9.000000   \n",
              "max      320.000000   1018.000000  262.000000  135.000000   22.000000   \n",
              "\n",
              "       Kurt.maxis  Kurt.Maxis     Holl.Ra       Class  \n",
              "count  719.000000  719.000000  719.000000  719.000000  \n",
              "mean    12.394993  188.798331  195.407510    1.470097  \n",
              "std      8.742511    6.048522    7.235166    1.126477  \n",
              "min      0.000000  176.000000  181.000000    0.000000  \n",
              "25%      5.500000  184.000000  190.000000    0.000000  \n",
              "50%     11.000000  188.000000  196.000000    1.000000  \n",
              "75%     18.000000  193.000000  201.000000    2.000000  \n",
              "max     41.000000  204.000000  211.000000    3.000000  "
            ],
            "text/html": [
              "\n",
              "  <div id=\"df-d6fd088c-d59b-4270-a50b-65400f752366\">\n",
              "    <div class=\"colab-df-container\">\n",
              "      <div>\n",
              "<style scoped>\n",
              "    .dataframe tbody tr th:only-of-type {\n",
              "        vertical-align: middle;\n",
              "    }\n",
              "\n",
              "    .dataframe tbody tr th {\n",
              "        vertical-align: top;\n",
              "    }\n",
              "\n",
              "    .dataframe thead th {\n",
              "        text-align: right;\n",
              "    }\n",
              "</style>\n",
              "<table border=\"1\" class=\"dataframe\">\n",
              "  <thead>\n",
              "    <tr style=\"text-align: right;\">\n",
              "      <th></th>\n",
              "      <th>ID</th>\n",
              "      <th>Comp</th>\n",
              "      <th>Circ</th>\n",
              "      <th>D.Circ</th>\n",
              "      <th>Rad.Ra</th>\n",
              "      <th>Pr.Axis.Ra</th>\n",
              "      <th>Max.L.Ra</th>\n",
              "      <th>Scat.Ra</th>\n",
              "      <th>Elong</th>\n",
              "      <th>Pr.Axis.Rect</th>\n",
              "      <th>Max.L.Rect</th>\n",
              "      <th>Sc.Var.Maxis</th>\n",
              "      <th>Sc.Var.maxis</th>\n",
              "      <th>Ra.Gyr</th>\n",
              "      <th>Skew.Maxis</th>\n",
              "      <th>Skew.maxis</th>\n",
              "      <th>Kurt.maxis</th>\n",
              "      <th>Kurt.Maxis</th>\n",
              "      <th>Holl.Ra</th>\n",
              "      <th>Class</th>\n",
              "    </tr>\n",
              "  </thead>\n",
              "  <tbody>\n",
              "    <tr>\n",
              "      <th>count</th>\n",
              "      <td>719.000000</td>\n",
              "      <td>719.000000</td>\n",
              "      <td>719.000000</td>\n",
              "      <td>719.000000</td>\n",
              "      <td>719.000000</td>\n",
              "      <td>719.000000</td>\n",
              "      <td>719.000000</td>\n",
              "      <td>719.000000</td>\n",
              "      <td>719.000000</td>\n",
              "      <td>719.000000</td>\n",
              "      <td>719.000000</td>\n",
              "      <td>719.000000</td>\n",
              "      <td>719.000000</td>\n",
              "      <td>719.000000</td>\n",
              "      <td>719.000000</td>\n",
              "      <td>719.000000</td>\n",
              "      <td>719.000000</td>\n",
              "      <td>719.000000</td>\n",
              "      <td>719.000000</td>\n",
              "      <td>719.000000</td>\n",
              "    </tr>\n",
              "    <tr>\n",
              "      <th>mean</th>\n",
              "      <td>360.000000</td>\n",
              "      <td>93.435327</td>\n",
              "      <td>44.851182</td>\n",
              "      <td>81.723227</td>\n",
              "      <td>168.579972</td>\n",
              "      <td>61.847010</td>\n",
              "      <td>8.625869</td>\n",
              "      <td>168.137691</td>\n",
              "      <td>41.075104</td>\n",
              "      <td>20.531293</td>\n",
              "      <td>148.030598</td>\n",
              "      <td>188.168289</td>\n",
              "      <td>436.215577</td>\n",
              "      <td>174.726008</td>\n",
              "      <td>72.682893</td>\n",
              "      <td>6.343533</td>\n",
              "      <td>12.394993</td>\n",
              "      <td>188.798331</td>\n",
              "      <td>195.407510</td>\n",
              "      <td>1.470097</td>\n",
              "    </tr>\n",
              "    <tr>\n",
              "      <th>std</th>\n",
              "      <td>207.701709</td>\n",
              "      <td>8.111406</td>\n",
              "      <td>6.150286</td>\n",
              "      <td>15.528208</td>\n",
              "      <td>33.809172</td>\n",
              "      <td>8.259136</td>\n",
              "      <td>4.916908</td>\n",
              "      <td>32.937591</td>\n",
              "      <td>7.764459</td>\n",
              "      <td>2.560969</td>\n",
              "      <td>14.560092</td>\n",
              "      <td>31.235395</td>\n",
              "      <td>174.964977</td>\n",
              "      <td>32.149568</td>\n",
              "      <td>7.542055</td>\n",
              "      <td>4.856169</td>\n",
              "      <td>8.742511</td>\n",
              "      <td>6.048522</td>\n",
              "      <td>7.235166</td>\n",
              "      <td>1.126477</td>\n",
              "    </tr>\n",
              "    <tr>\n",
              "      <th>min</th>\n",
              "      <td>1.000000</td>\n",
              "      <td>73.000000</td>\n",
              "      <td>33.000000</td>\n",
              "      <td>40.000000</td>\n",
              "      <td>105.000000</td>\n",
              "      <td>47.000000</td>\n",
              "      <td>2.000000</td>\n",
              "      <td>112.000000</td>\n",
              "      <td>26.000000</td>\n",
              "      <td>17.000000</td>\n",
              "      <td>118.000000</td>\n",
              "      <td>130.000000</td>\n",
              "      <td>184.000000</td>\n",
              "      <td>109.000000</td>\n",
              "      <td>59.000000</td>\n",
              "      <td>0.000000</td>\n",
              "      <td>0.000000</td>\n",
              "      <td>176.000000</td>\n",
              "      <td>181.000000</td>\n",
              "      <td>0.000000</td>\n",
              "    </tr>\n",
              "    <tr>\n",
              "      <th>25%</th>\n",
              "      <td>180.500000</td>\n",
              "      <td>87.000000</td>\n",
              "      <td>40.000000</td>\n",
              "      <td>70.000000</td>\n",
              "      <td>141.000000</td>\n",
              "      <td>57.000000</td>\n",
              "      <td>6.000000</td>\n",
              "      <td>146.000000</td>\n",
              "      <td>33.000000</td>\n",
              "      <td>19.000000</td>\n",
              "      <td>137.000000</td>\n",
              "      <td>167.000000</td>\n",
              "      <td>317.000000</td>\n",
              "      <td>149.000000</td>\n",
              "      <td>68.000000</td>\n",
              "      <td>2.000000</td>\n",
              "      <td>5.500000</td>\n",
              "      <td>184.000000</td>\n",
              "      <td>190.000000</td>\n",
              "      <td>0.000000</td>\n",
              "    </tr>\n",
              "    <tr>\n",
              "      <th>50%</th>\n",
              "      <td>360.000000</td>\n",
              "      <td>93.000000</td>\n",
              "      <td>44.000000</td>\n",
              "      <td>79.000000</td>\n",
              "      <td>166.000000</td>\n",
              "      <td>61.000000</td>\n",
              "      <td>8.000000</td>\n",
              "      <td>157.000000</td>\n",
              "      <td>43.000000</td>\n",
              "      <td>20.000000</td>\n",
              "      <td>146.000000</td>\n",
              "      <td>178.000000</td>\n",
              "      <td>362.000000</td>\n",
              "      <td>174.000000</td>\n",
              "      <td>72.000000</td>\n",
              "      <td>6.000000</td>\n",
              "      <td>11.000000</td>\n",
              "      <td>188.000000</td>\n",
              "      <td>196.000000</td>\n",
              "      <td>1.000000</td>\n",
              "    </tr>\n",
              "    <tr>\n",
              "      <th>75%</th>\n",
              "      <td>539.500000</td>\n",
              "      <td>99.000000</td>\n",
              "      <td>49.000000</td>\n",
              "      <td>96.000000</td>\n",
              "      <td>194.500000</td>\n",
              "      <td>65.000000</td>\n",
              "      <td>10.000000</td>\n",
              "      <td>197.500000</td>\n",
              "      <td>46.000000</td>\n",
              "      <td>23.000000</td>\n",
              "      <td>159.000000</td>\n",
              "      <td>216.000000</td>\n",
              "      <td>584.500000</td>\n",
              "      <td>198.000000</td>\n",
              "      <td>76.000000</td>\n",
              "      <td>9.000000</td>\n",
              "      <td>18.000000</td>\n",
              "      <td>193.000000</td>\n",
              "      <td>201.000000</td>\n",
              "      <td>2.000000</td>\n",
              "    </tr>\n",
              "    <tr>\n",
              "      <th>max</th>\n",
              "      <td>719.000000</td>\n",
              "      <td>119.000000</td>\n",
              "      <td>59.000000</td>\n",
              "      <td>110.000000</td>\n",
              "      <td>333.000000</td>\n",
              "      <td>138.000000</td>\n",
              "      <td>55.000000</td>\n",
              "      <td>265.000000</td>\n",
              "      <td>61.000000</td>\n",
              "      <td>29.000000</td>\n",
              "      <td>188.000000</td>\n",
              "      <td>320.000000</td>\n",
              "      <td>1018.000000</td>\n",
              "      <td>262.000000</td>\n",
              "      <td>135.000000</td>\n",
              "      <td>22.000000</td>\n",
              "      <td>41.000000</td>\n",
              "      <td>204.000000</td>\n",
              "      <td>211.000000</td>\n",
              "      <td>3.000000</td>\n",
              "    </tr>\n",
              "  </tbody>\n",
              "</table>\n",
              "</div>\n",
              "      <button class=\"colab-df-convert\" onclick=\"convertToInteractive('df-d6fd088c-d59b-4270-a50b-65400f752366')\"\n",
              "              title=\"Convert this dataframe to an interactive table.\"\n",
              "              style=\"display:none;\">\n",
              "        \n",
              "  <svg xmlns=\"http://www.w3.org/2000/svg\" height=\"24px\"viewBox=\"0 0 24 24\"\n",
              "       width=\"24px\">\n",
              "    <path d=\"M0 0h24v24H0V0z\" fill=\"none\"/>\n",
              "    <path d=\"M18.56 5.44l.94 2.06.94-2.06 2.06-.94-2.06-.94-.94-2.06-.94 2.06-2.06.94zm-11 1L8.5 8.5l.94-2.06 2.06-.94-2.06-.94L8.5 2.5l-.94 2.06-2.06.94zm10 10l.94 2.06.94-2.06 2.06-.94-2.06-.94-.94-2.06-.94 2.06-2.06.94z\"/><path d=\"M17.41 7.96l-1.37-1.37c-.4-.4-.92-.59-1.43-.59-.52 0-1.04.2-1.43.59L10.3 9.45l-7.72 7.72c-.78.78-.78 2.05 0 2.83L4 21.41c.39.39.9.59 1.41.59.51 0 1.02-.2 1.41-.59l7.78-7.78 2.81-2.81c.8-.78.8-2.07 0-2.86zM5.41 20L4 18.59l7.72-7.72 1.47 1.35L5.41 20z\"/>\n",
              "  </svg>\n",
              "      </button>\n",
              "      \n",
              "  <style>\n",
              "    .colab-df-container {\n",
              "      display:flex;\n",
              "      flex-wrap:wrap;\n",
              "      gap: 12px;\n",
              "    }\n",
              "\n",
              "    .colab-df-convert {\n",
              "      background-color: #E8F0FE;\n",
              "      border: none;\n",
              "      border-radius: 50%;\n",
              "      cursor: pointer;\n",
              "      display: none;\n",
              "      fill: #1967D2;\n",
              "      height: 32px;\n",
              "      padding: 0 0 0 0;\n",
              "      width: 32px;\n",
              "    }\n",
              "\n",
              "    .colab-df-convert:hover {\n",
              "      background-color: #E2EBFA;\n",
              "      box-shadow: 0px 1px 2px rgba(60, 64, 67, 0.3), 0px 1px 3px 1px rgba(60, 64, 67, 0.15);\n",
              "      fill: #174EA6;\n",
              "    }\n",
              "\n",
              "    [theme=dark] .colab-df-convert {\n",
              "      background-color: #3B4455;\n",
              "      fill: #D2E3FC;\n",
              "    }\n",
              "\n",
              "    [theme=dark] .colab-df-convert:hover {\n",
              "      background-color: #434B5C;\n",
              "      box-shadow: 0px 1px 3px 1px rgba(0, 0, 0, 0.15);\n",
              "      filter: drop-shadow(0px 1px 2px rgba(0, 0, 0, 0.3));\n",
              "      fill: #FFFFFF;\n",
              "    }\n",
              "  </style>\n",
              "\n",
              "      <script>\n",
              "        const buttonEl =\n",
              "          document.querySelector('#df-d6fd088c-d59b-4270-a50b-65400f752366 button.colab-df-convert');\n",
              "        buttonEl.style.display =\n",
              "          google.colab.kernel.accessAllowed ? 'block' : 'none';\n",
              "\n",
              "        async function convertToInteractive(key) {\n",
              "          const element = document.querySelector('#df-d6fd088c-d59b-4270-a50b-65400f752366');\n",
              "          const dataTable =\n",
              "            await google.colab.kernel.invokeFunction('convertToInteractive',\n",
              "                                                     [key], {});\n",
              "          if (!dataTable) return;\n",
              "\n",
              "          const docLinkHtml = 'Like what you see? Visit the ' +\n",
              "            '<a target=\"_blank\" href=https://colab.research.google.com/notebooks/data_table.ipynb>data table notebook</a>'\n",
              "            + ' to learn more about interactive tables.';\n",
              "          element.innerHTML = '';\n",
              "          dataTable['output_type'] = 'display_data';\n",
              "          await google.colab.output.renderOutput(dataTable, element);\n",
              "          const docLink = document.createElement('div');\n",
              "          docLink.innerHTML = docLinkHtml;\n",
              "          element.appendChild(docLink);\n",
              "        }\n",
              "      </script>\n",
              "    </div>\n",
              "  </div>\n",
              "  "
            ]
          },
          "metadata": {},
          "execution_count": 41
        }
      ]
    },
    {
      "cell_type": "code",
      "source": [
        "sns.boxplot(data=data)"
      ],
      "metadata": {
        "colab": {
          "base_uri": "https://localhost:8080/",
          "height": 282
        },
        "id": "aVZ12TRqcL-2",
        "outputId": "be115f13-0716-41c5-b7b1-091597959f25"
      },
      "execution_count": null,
      "outputs": [
        {
          "output_type": "execute_result",
          "data": {
            "text/plain": [
              "<matplotlib.axes._subplots.AxesSubplot at 0x7f7d28d06210>"
            ]
          },
          "metadata": {},
          "execution_count": 42
        },
        {
          "output_type": "display_data",
          "data": {
            "text/plain": [
              "<Figure size 432x288 with 1 Axes>"
            ],
            "image/png": "[encoded data removed]"
          },
          "metadata": {
            "needs_background": "light"
          }
        }
      ]
    },
    {
      "cell_type": "code",
      "source": [
        "from sklearn.preprocessing import StandardScaler"
      ],
      "metadata": {
        "id": "03hg1vj6cSfm"
      },
      "execution_count": null,
      "outputs": []
    },
    {
      "cell_type": "code",
      "source": [
        "SS = StandardScaler()"
      ],
      "metadata": {
        "id": "e32WQQmEhWA_"
      },
      "execution_count": null,
      "outputs": []
    },
    {
      "cell_type": "code",
      "source": [
        "x_train= SS.fit_transform(x_train)"
      ],
      "metadata": {
        "id": "Y9nhy1vDhcsO"
      },
      "execution_count": null,
      "outputs": []
    },
    {
      "cell_type": "code",
      "source": [
        "sns.boxplot(data=x_train)\n",
        "x_train"
      ],
      "metadata": {
        "colab": {
          "base_uri": "https://localhost:8080/",
          "height": 491
        },
        "id": "BkvCFX7ziFLX",
        "outputId": "590ff2e3-cfcf-47a1-c527-96373279a482"
      },
      "execution_count": null,
      "outputs": [
        {
          "output_type": "execute_result",
          "data": {
            "text/plain": [
              "array([[-1.58675694,  1.29555665,  1.13739678, ..., -0.54509386,\n",
              "         0.66216671,  0.60802459],\n",
              "       [-0.84960809, -0.5483668 , -1.09796554, ..., -0.42875052,\n",
              "        -0.31745385, -0.22670873],\n",
              "       [-1.00094328, -0.42543857,  0.33905309, ..., -1.47584062,\n",
              "        -0.64399404, -0.08758651],\n",
              "       ...,\n",
              "       [-1.40124928, -1.7776491 ,  0.33905309, ..., -0.31240717,\n",
              "        -0.97053423, -0.92231984],\n",
              "       [-0.60551907, -0.17958211,  0.17938436, ..., -0.31240717,\n",
              "         0.33562652,  0.32978015],\n",
              "       [-1.5721116 ,  0.43505904,  0.33905309, ..., -1.24315393,\n",
              "         0.49889662,  0.32978015]])"
            ]
          },
          "metadata": {},
          "execution_count": 46
        },
        {
          "output_type": "display_data",
          "data": {
            "text/plain": [
              "<Figure size 432x288 with 1 Axes>"
            ],
            "image/png": "[encoded data removed]"
          },
          "metadata": {
            "needs_background": "light"
          }
        }
      ]
    },
    {
      "cell_type": "code",
      "source": [
        "x_test=SS.transform(x_test)"
      ],
      "metadata": {
        "id": "msXGzSRUhkIn"
      },
      "execution_count": null,
      "outputs": []
    },
    {
      "cell_type": "code",
      "source": [
        "sns.boxplot(data=x_test)\n",
        "x_test"
      ],
      "metadata": {
        "colab": {
          "base_uri": "https://localhost:8080/",
          "height": 491
        },
        "id": "8Hacu2uUiLUY",
        "outputId": "1eeb4716-ed06-4bfd-daae-86eb0d331799"
      },
      "execution_count": null,
      "outputs": [
        {
          "output_type": "execute_result",
          "data": {
            "text/plain": [
              "array([[-1.46471243, -0.05665388, -1.41730302, ...,  1.66542968,\n",
              "         0.66216671,  0.74714682],\n",
              "       [-1.45983065,  2.15605426,  0.8180593 , ..., -0.42875052,\n",
              "         0.17235643,  0.60802459],\n",
              "       [-0.70803646, -1.28593618, -0.13995312, ..., -1.35949727,\n",
              "        -0.64399404, -0.6440754 ],\n",
              "       ...,\n",
              "       [-1.17668738,  0.18920258, -0.29962186, ...,  1.20005631,\n",
              "        -0.31745385,  0.60802459],\n",
              "       [-0.41512963,  1.78726957,  1.45673425, ..., -1.12681058,\n",
              "         0.17235643,  0.60802459],\n",
              "       [ 0.25367429, -1.04007972, -0.29962186, ..., -0.19606383,\n",
              "        -1.62361461, -1.89617539]])"
            ]
          },
          "metadata": {},
          "execution_count": 48
        },
        {
          "output_type": "display_data",
          "data": {
            "text/plain": [
              "<Figure size 432x288 with 1 Axes>"
            ],
            "image/png": "[encoded data removed]"
          },
          "metadata": {
            "needs_background": "light"
          }
        }
      ]
    },
    {
      "cell_type": "markdown",
      "source": [
        "#Finial Model Building "
      ],
      "metadata": {
        "id": "ni-uZDn5lF4I"
      }
    },
    {
      "cell_type": "code",
      "source": [
        "#Importing all Classification Libraries Models from sklearn \n",
        "from sklearn.linear_model import SGDClassifier\n",
        "from sklearn.svm import SVC \n",
        "from sklearn.neighbors import KNeighborsClassifier\n",
        "from sklearn.tree import DecisionTreeClassifier\n",
        "from sklearn.ensemble import RandomForestClassifier,GradientBoostingClassifier"
      ],
      "metadata": {
        "id": "Pdw0NYR1iTFg"
      },
      "execution_count": null,
      "outputs": []
    },
    {
      "cell_type": "code",
      "source": [
        "#Creating Objects for above Models \n",
        "sgd= SGDClassifier()\n",
        "svc= SVC()\n",
        "knn= KNeighborsClassifier()\n",
        "dtc= DecisionTreeClassifier()\n",
        "rfc= RandomForestClassifier()\n",
        "gbc= GradientBoostingClassifier()\n"
      ],
      "metadata": {
        "id": "IK6k-ZI2mZtg"
      },
      "execution_count": null,
      "outputs": []
    },
    {
      "cell_type": "code",
      "source": [
        "# Training The Models :\n",
        "import time \n",
        "start = time.time()\n",
        "sgd.fit(x_train, y_train)\n",
        "svc.fit(x_train, y_train)\n",
        "knn.fit(x_train, y_train)\n",
        "dtc.fit(x_train, y_train)\n",
        "rfc.fit(x_train, y_train)\n",
        "gbc.fit(x_train, y_train)\n",
        "end = time.time()\n",
        "print(end-start)"
      ],
      "metadata": {
        "colab": {
          "base_uri": "https://localhost:8080/"
        },
        "id": "dYsjZN5YnIpI",
        "outputId": "4dcaf7d8-6309-41a9-d192-4f43d7b429bc"
      },
      "execution_count": null,
      "outputs": [
        {
          "output_type": "stream",
          "name": "stdout",
          "text": [
            "1.404566764831543\n"
          ]
        }
      ]
    },
    {
      "cell_type": "code",
      "source": [
        "#Training the Models \n",
        "import time \n",
        "start = time.time()\n",
        "sgd.score(x_train, y_train)\n",
        "svc.score(x_train, y_train)\n",
        "knn.score(x_train, y_train)\n",
        "dtc.score(x_train, y_train)\n",
        "rfc.score(x_train, y_train)\n",
        "gbc.score(x_train, y_train)\n",
        "end = time.time()\n",
        "print(end-start)"
      ],
      "metadata": {
        "colab": {
          "base_uri": "https://localhost:8080/"
        },
        "id": "JuPu16yarl_p",
        "outputId": "a211b9a6-f4b8-4b9f-d81b-32dd35b6b5b7"
      },
      "execution_count": null,
      "outputs": [
        {
          "output_type": "stream",
          "name": "stdout",
          "text": [
            "0.13364005088806152\n"
          ]
        }
      ]
    },
    {
      "cell_type": "markdown",
      "source": [
        "# Accuracy  "
      ],
      "metadata": {
        "id": "r5GBCxsXK0Hf"
      }
    },
    {
      "cell_type": "code",
      "source": [
        "#train data Scores \n",
        "#Accuracy \n",
        "import time \n",
        "start = time.time()\n",
        "Train_s1 =sgd.score(x_train, y_train)\n",
        "end = time.time ()\n",
        "print(end-start)"
      ],
      "metadata": {
        "colab": {
          "base_uri": "https://localhost:8080/"
        },
        "id": "QjPscgZg79vf",
        "outputId": "218f4dce-b01d-4b2a-b097-a06de5e91a7e"
      },
      "execution_count": null,
      "outputs": [
        {
          "output_type": "stream",
          "name": "stdout",
          "text": [
            "0.004393815994262695\n"
          ]
        }
      ]
    },
    {
      "cell_type": "code",
      "source": [
        "#train data Scores \n",
        "#Accuracy \n",
        "import time \n",
        "start = time.time()\n",
        "Train_s2 =svc.score(x_train, y_train)\n",
        "end = time.time ()\n",
        "print(end-start)"
      ],
      "metadata": {
        "colab": {
          "base_uri": "https://localhost:8080/"
        },
        "id": "4GmDXvmY7yx2",
        "outputId": "864a99ab-5f94-478c-f716-42057553bf8b"
      },
      "execution_count": null,
      "outputs": [
        {
          "output_type": "stream",
          "name": "stdout",
          "text": [
            "0.038201332092285156\n"
          ]
        }
      ]
    },
    {
      "cell_type": "code",
      "source": [
        "#train data Scores \n",
        "#Accuracy \n",
        "import time \n",
        "start = time.time()\n",
        "Train_s3  =knn.score(x_train, y_train)\n",
        "end = time.time ()\n",
        "print(end-start)"
      ],
      "metadata": {
        "colab": {
          "base_uri": "https://localhost:8080/"
        },
        "id": "M2J_p7vv71K2",
        "outputId": "3bf49d67-f3df-40cd-e2f9-887501b370ac"
      },
      "execution_count": null,
      "outputs": [
        {
          "output_type": "stream",
          "name": "stdout",
          "text": [
            "0.04790830612182617\n"
          ]
        }
      ]
    },
    {
      "cell_type": "code",
      "source": [
        "#train data Scores \n",
        "#Accuracy \n",
        "import time \n",
        "start = time.time()\n",
        "Train_s4 =dtc.score(x_train, y_train)\n",
        "end = time.time ()\n",
        "print(end-start)"
      ],
      "metadata": {
        "colab": {
          "base_uri": "https://localhost:8080/"
        },
        "id": "XSycz_py74TQ",
        "outputId": "ec5de487-f118-460a-8cbf-bb28f3a6e8ee"
      },
      "execution_count": null,
      "outputs": [
        {
          "output_type": "stream",
          "name": "stdout",
          "text": [
            "0.002721548080444336\n"
          ]
        }
      ]
    },
    {
      "cell_type": "code",
      "source": [
        "#Accuracy \n",
        "import time \n",
        "start = time.time()\n",
        "Train_s5  =rfc.score(x_train, y_train)\n",
        "end = time.time ()\n",
        "print(end-start)"
      ],
      "metadata": {
        "colab": {
          "base_uri": "https://localhost:8080/"
        },
        "id": "6QakB8IY76r3",
        "outputId": "f9e93cb4-edb3-4c84-d628-6b5b37b2d56b"
      },
      "execution_count": null,
      "outputs": [
        {
          "output_type": "stream",
          "name": "stdout",
          "text": [
            "0.032694101333618164\n"
          ]
        }
      ]
    },
    {
      "cell_type": "code",
      "source": [
        "#Accuracy \n",
        "import time \n",
        "start = time.time()\n",
        "Train_s6  =gbc.score(x_train, y_train)\n",
        "end = time.time ()\n",
        "print(end-start)"
      ],
      "metadata": {
        "colab": {
          "base_uri": "https://localhost:8080/"
        },
        "id": "F1FTJlmz7_A3",
        "outputId": "cffa13df-c4c6-4aa7-cac3-c379c18fb019"
      },
      "execution_count": null,
      "outputs": [
        {
          "output_type": "stream",
          "name": "stdout",
          "text": [
            "0.009783029556274414\n"
          ]
        }
      ]
    },
    {
      "cell_type": "code",
      "source": [
        "#Accuracy \n",
        "import time \n",
        "start = time.time()\n",
        "Test_s1=sgd.score(x_test, y_test)\n",
        "Test_s2=svc.score(x_test, y_test)\n",
        "Test_s3=knn.score(x_test, y_test)\n",
        "Test_s4=dtc.score(x_test, y_test)\n",
        "Test_s5 =rfc.score(x_test, y_test)\n",
        "Test_s6=gbc.score(x_test, y_test)\n",
        "end = time.time ()\n",
        "print(end-start)"
      ],
      "metadata": {
        "colab": {
          "base_uri": "https://localhost:8080/"
        },
        "id": "tm7b_Omu9Gp0",
        "outputId": "638e99ca-5a91-4d95-c5de-e1e3fd8b2caa"
      },
      "execution_count": null,
      "outputs": [
        {
          "output_type": "stream",
          "name": "stdout",
          "text": [
            "0.05369067192077637\n"
          ]
        }
      ]
    },
    {
      "cell_type": "code",
      "source": [
        "train_scores = [Train_s1,Train_s2,Train_s3,Train_s4,Train_s5,Train_s6]\n"
      ],
      "metadata": {
        "id": "NWi3APp9xedk"
      },
      "execution_count": null,
      "outputs": []
    },
    {
      "cell_type": "code",
      "source": [
        "test_scores= [Test_s1,Test_s2,Test_s3,Test_s4,Test_s5,Test_s6]"
      ],
      "metadata": {
        "id": "czvZxs4G8uL-"
      },
      "execution_count": null,
      "outputs": []
    },
    {
      "cell_type": "code",
      "source": [
        "print(train_scores)"
      ],
      "metadata": {
        "colab": {
          "base_uri": "https://localhost:8080/"
        },
        "id": "7Gzgyd-rxvQC",
        "outputId": "98a19327-771e-45b5-9bb0-c0ae2d97581b"
      },
      "execution_count": null,
      "outputs": [
        {
          "output_type": "stream",
          "name": "stdout",
          "text": [
            "[0.7339130434782609, 0.8417391304347827, 0.8173913043478261, 1.0, 1.0, 1.0]\n"
          ]
        }
      ]
    },
    {
      "cell_type": "code",
      "source": [
        "print(test_scores)"
      ],
      "metadata": {
        "colab": {
          "base_uri": "https://localhost:8080/"
        },
        "id": "hkWZGC8SyAg7",
        "outputId": "d8c5c5dc-c9d6-4169-f455-c24f0064ffd9"
      },
      "execution_count": null,
      "outputs": [
        {
          "output_type": "stream",
          "name": "stdout",
          "text": [
            "[0.7152777777777778, 0.7430555555555556, 0.7291666666666666, 0.6805555555555556, 0.7638888888888888, 0.75]\n"
          ]
        }
      ]
    },
    {
      "cell_type": "markdown",
      "source": [
        "# F1 Score "
      ],
      "metadata": {
        "id": "eHqJIXcMJvTm"
      }
    },
    {
      "cell_type": "code",
      "source": [
        "#F1 score\n",
        "import time \n",
        "start = time.time()\n",
        "y_pred1 = sgd.predict(x_test)\n",
        "end= time.time()\n",
        "print(end-start)\n"
      ],
      "metadata": {
        "colab": {
          "base_uri": "https://localhost:8080/"
        },
        "id": "10OmxG239qVd",
        "outputId": "af4d08be-1883-42c3-f8ba-eb6c802d971c"
      },
      "execution_count": null,
      "outputs": [
        {
          "output_type": "stream",
          "name": "stdout",
          "text": [
            "0.003923177719116211\n"
          ]
        }
      ]
    },
    {
      "cell_type": "code",
      "source": [
        "import time \n",
        "start = time.time()\n",
        "y_pred2 = svc.predict(x_test)\n",
        "end= time.time()\n",
        "print(end-start)"
      ],
      "metadata": {
        "colab": {
          "base_uri": "https://localhost:8080/"
        },
        "id": "UuMZKA1f881O",
        "outputId": "81b601de-9366-42f5-b397-451720c31d9a"
      },
      "execution_count": null,
      "outputs": [
        {
          "output_type": "stream",
          "name": "stdout",
          "text": [
            "0.008480548858642578\n"
          ]
        }
      ]
    },
    {
      "cell_type": "code",
      "source": [
        "import time \n",
        "start = time.time()\n",
        "y_pred3 = knn.predict(x_test)\n",
        "end= time.time()\n",
        "print(end-start)"
      ],
      "metadata": {
        "colab": {
          "base_uri": "https://localhost:8080/"
        },
        "id": "46S34-j09AO-",
        "outputId": "c051668c-659f-4aef-ab00-99f5e3d3ca50"
      },
      "execution_count": null,
      "outputs": [
        {
          "output_type": "stream",
          "name": "stdout",
          "text": [
            "0.01375579833984375\n"
          ]
        }
      ]
    },
    {
      "cell_type": "code",
      "source": [
        "import time \n",
        "start = time.time()\n",
        "y_pred4 = dtc.predict(x_test)\n",
        "end= time.time()\n",
        "print(end-start)"
      ],
      "metadata": {
        "colab": {
          "base_uri": "https://localhost:8080/"
        },
        "id": "os_FnXB69Cf9",
        "outputId": "ac5e3ef0-662e-4a54-895d-88ca0593e050"
      },
      "execution_count": null,
      "outputs": [
        {
          "output_type": "stream",
          "name": "stdout",
          "text": [
            "-151.3418710231781\n"
          ]
        }
      ]
    },
    {
      "cell_type": "code",
      "source": [
        "import time \n",
        "start = time.time()\n",
        "y_pred5 = rfc.predict(x_test)\n",
        "end= time.time()\n",
        "print(end-start)"
      ],
      "metadata": {
        "colab": {
          "base_uri": "https://localhost:8080/"
        },
        "id": "hWX2IKnq9F-O",
        "outputId": "6ca8287f-b0cf-4dab-d6a5-e5b46b0a03b7"
      },
      "execution_count": null,
      "outputs": [
        {
          "output_type": "stream",
          "name": "stdout",
          "text": [
            "0.023360490798950195\n"
          ]
        }
      ]
    },
    {
      "cell_type": "code",
      "source": [
        "import time \n",
        "start = time.time()\n",
        "y_pred6 = gbc.predict(x_test)\n",
        "end= time.time()\n",
        "print(end-start)"
      ],
      "metadata": {
        "colab": {
          "base_uri": "https://localhost:8080/"
        },
        "id": "tay-WOhG9K1-",
        "outputId": "2a30e427-9f04-404b-d2fb-ee2e130185af"
      },
      "execution_count": null,
      "outputs": [
        {
          "output_type": "stream",
          "name": "stdout",
          "text": [
            "0.004336833953857422\n"
          ]
        }
      ]
    },
    {
      "cell_type": "markdown",
      "source": [
        "# Confusion Matrix "
      ],
      "metadata": {
        "id": "W000RV4uKsAm"
      }
    },
    {
      "cell_type": "code",
      "source": [
        "from sklearn.metrics import plot_confusion_matrix,f1_score\n",
        "plot_confusion_matrix(sgd,x_test,y_test)"
      ],
      "metadata": {
        "colab": {
          "base_uri": "https://localhost:8080/",
          "height": 351
        },
        "id": "x4q9K6LA-UA7",
        "outputId": "ab5c48c3-0110-4068-ce83-099152553291"
      },
      "execution_count": null,
      "outputs": [
        {
          "output_type": "stream",
          "name": "stderr",
          "text": [
            "/usr/local/lib/python3.7/dist-packages/sklearn/utils/deprecation.py:87: FutureWarning: Function plot_confusion_matrix is deprecated; Function `plot_confusion_matrix` is deprecated in 1.0 and will be removed in 1.2. Use one of the class methods: ConfusionMatrixDisplay.from_predictions or ConfusionMatrixDisplay.from_estimator.\n",
            "  warnings.warn(msg, category=FutureWarning)\n"
          ]
        },
        {
          "output_type": "execute_result",
          "data": {
            "text/plain": [
              "<sklearn.metrics._plot.confusion_matrix.ConfusionMatrixDisplay at 0x7f7d27d5e710>"
            ]
          },
          "metadata": {},
          "execution_count": 60
        },
        {
          "output_type": "display_data",
          "data": {
            "text/plain": [
              "<Figure size 432x288 with 2 Axes>"
            ],
            "image/png": "[encoded data removed]"
          },
          "metadata": {
            "needs_background": "light"
          }
        }
      ]
    },
    {
      "cell_type": "code",
      "source": [
        "from sklearn.metrics import plot_confusion_matrix,f1_score\n",
        "plot_confusion_matrix(svc,x_test,y_test)"
      ],
      "metadata": {
        "colab": {
          "base_uri": "https://localhost:8080/",
          "height": 351
        },
        "id": "Qb0jPMK_AQYd",
        "outputId": "120cacbc-4b5f-4516-b94c-a95a0736f481"
      },
      "execution_count": null,
      "outputs": [
        {
          "output_type": "stream",
          "name": "stderr",
          "text": [
            "/usr/local/lib/python3.7/dist-packages/sklearn/utils/deprecation.py:87: FutureWarning: Function plot_confusion_matrix is deprecated; Function `plot_confusion_matrix` is deprecated in 1.0 and will be removed in 1.2. Use one of the class methods: ConfusionMatrixDisplay.from_predictions or ConfusionMatrixDisplay.from_estimator.\n",
            "  warnings.warn(msg, category=FutureWarning)\n"
          ]
        },
        {
          "output_type": "execute_result",
          "data": {
            "text/plain": [
              "<sklearn.metrics._plot.confusion_matrix.ConfusionMatrixDisplay at 0x7f7d254a8f10>"
            ]
          },
          "metadata": {},
          "execution_count": 61
        },
        {
          "output_type": "display_data",
          "data": {
            "text/plain": [
              "<Figure size 432x288 with 2 Axes>"
            ],
            "image/png": "[encoded data removed]"
          },
          "metadata": {
            "needs_background": "light"
          }
        }
      ]
    },
    {
      "cell_type": "code",
      "source": [
        "from sklearn.metrics import plot_confusion_matrix,f1_score\n",
        "plot_confusion_matrix(knn,x_test,y_test)"
      ],
      "metadata": {
        "colab": {
          "base_uri": "https://localhost:8080/",
          "height": 351
        },
        "id": "JyQkLjLIHPdG",
        "outputId": "b1807d68-93b9-461e-cf2a-adde4276c788"
      },
      "execution_count": null,
      "outputs": [
        {
          "output_type": "stream",
          "name": "stderr",
          "text": [
            "/usr/local/lib/python3.7/dist-packages/sklearn/utils/deprecation.py:87: FutureWarning: Function plot_confusion_matrix is deprecated; Function `plot_confusion_matrix` is deprecated in 1.0 and will be removed in 1.2. Use one of the class methods: ConfusionMatrixDisplay.from_predictions or ConfusionMatrixDisplay.from_estimator.\n",
            "  warnings.warn(msg, category=FutureWarning)\n"
          ]
        },
        {
          "output_type": "execute_result",
          "data": {
            "text/plain": [
              "<sklearn.metrics._plot.confusion_matrix.ConfusionMatrixDisplay at 0x7f7d2538a410>"
            ]
          },
          "metadata": {},
          "execution_count": 62
        },
        {
          "output_type": "display_data",
          "data": {
            "text/plain": [
              "<Figure size 432x288 with 2 Axes>"
            ],
            "image/png": "[encoded data removed]"
          },
          "metadata": {
            "needs_background": "light"
          }
        }
      ]
    },
    {
      "cell_type": "code",
      "source": [
        "from sklearn.metrics import plot_confusion_matrix,f1_score\n",
        "plot_confusion_matrix(rfc,x_test,y_test)"
      ],
      "metadata": {
        "colab": {
          "base_uri": "https://localhost:8080/",
          "height": 351
        },
        "id": "hWq9ahJ4SPMk",
        "outputId": "ec466398-2940-484c-8246-f6383b921eb6"
      },
      "execution_count": null,
      "outputs": [
        {
          "output_type": "stream",
          "name": "stderr",
          "text": [
            "/usr/local/lib/python3.7/dist-packages/sklearn/utils/deprecation.py:87: FutureWarning: Function plot_confusion_matrix is deprecated; Function `plot_confusion_matrix` is deprecated in 1.0 and will be removed in 1.2. Use one of the class methods: ConfusionMatrixDisplay.from_predictions or ConfusionMatrixDisplay.from_estimator.\n",
            "  warnings.warn(msg, category=FutureWarning)\n"
          ]
        },
        {
          "output_type": "execute_result",
          "data": {
            "text/plain": [
              "<sklearn.metrics._plot.confusion_matrix.ConfusionMatrixDisplay at 0x7f7d252d2750>"
            ]
          },
          "metadata": {},
          "execution_count": 63
        },
        {
          "output_type": "display_data",
          "data": {
            "text/plain": [
              "<Figure size 432x288 with 2 Axes>"
            ],
            "image/png": "[encoded data removed]"
          },
          "metadata": {
            "needs_background": "light"
          }
        }
      ]
    },
    {
      "cell_type": "code",
      "source": [
        "from sklearn.metrics import plot_confusion_matrix,f1_score\n",
        "plot_confusion_matrix(gbc,x_test,y_test)"
      ],
      "metadata": {
        "colab": {
          "base_uri": "https://localhost:8080/",
          "height": 351
        },
        "id": "6hp7WVPPSYkm",
        "outputId": "0ca95fc0-6289-4f03-8ffb-c06597e35eb6"
      },
      "execution_count": null,
      "outputs": [
        {
          "output_type": "stream",
          "name": "stderr",
          "text": [
            "/usr/local/lib/python3.7/dist-packages/sklearn/utils/deprecation.py:87: FutureWarning: Function plot_confusion_matrix is deprecated; Function `plot_confusion_matrix` is deprecated in 1.0 and will be removed in 1.2. Use one of the class methods: ConfusionMatrixDisplay.from_predictions or ConfusionMatrixDisplay.from_estimator.\n",
            "  warnings.warn(msg, category=FutureWarning)\n"
          ]
        },
        {
          "output_type": "execute_result",
          "data": {
            "text/plain": [
              "<sklearn.metrics._plot.confusion_matrix.ConfusionMatrixDisplay at 0x7f7d253ddf50>"
            ]
          },
          "metadata": {},
          "execution_count": 64
        },
        {
          "output_type": "display_data",
          "data": {
            "text/plain": [
              "<Figure size 432x288 with 2 Axes>"
            ],
            "image/png": "[encoded data removed]"
          },
          "metadata": {
            "needs_background": "light"
          }
        }
      ]
    },
    {
      "cell_type": "markdown",
      "source": [
        "As per the data we use multiple classification methods in these data, find the Accuracy and F1score, confusion matrix for all the models which are using in these data \n"
      ],
      "metadata": {
        "id": "hgwHu9nWhK4Z"
      }
    }
  ]
}